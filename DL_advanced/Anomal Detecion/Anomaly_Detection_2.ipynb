{
 "cells": [
  {
   "cell_type": "markdown",
   "id": "513427c1",
   "metadata": {},
   "source": [
    "# Anomaly Detc Case 2\n",
    "\n",
    "## Without Label:Twitch\n",
    "\n",
    "简介:一个官方宝可梦游戏，一群人通过键入指令控制宝可梦进行游戏。假设里面存在一群`troll`，破坏游戏，目标是侦测出这些人。\n",
    "\n",
    "假设每个玩家有两种行为，$x_1$代表说垃圾话的次数，$x_2$代表在无政府模式下发言的次数，将每个玩家转化为一个`intra vector`。目标是一个数值化的方法得出一个$P(x)$，代表不是`troll`的概率。\n",
    "\n",
    "\n",
    "<img style=\"float: center;\" src=\"pics/Anomaly_detc_2_1.PNG\" width=400 height=400> \n",
    "\n",
    "<img style=\"float: center;\" src=\"pics/Anomaly_detc_2_2.PNG\" width=400 height=400> "
   ]
  },
  {
   "cell_type": "markdown",
   "id": "2185cccc",
   "metadata": {},
   "source": [
    "##  Maximum Likelihood\n",
    "\n",
    "假设采样到$N$个样本${x^1,x^2,...x^N}$，服从概率密度函数$f_\\theta(x)$。\n",
    "\n",
    "其中$\\theta$是控制概率密度函数形状的参数。\n",
    "\n",
    "1. **计算Likelihood**:\n",
    "\n",
    "$$L(\\theta) = f_\\theta(x^1)f_\\theta(x^2)....f_\\theta(x^N)$$\n",
    "\n",
    "2. **Maximum Likelihood**\n",
    "\n",
    "$$\\theta^* = arg \\underset{\\theta}{max} \\ L(\\theta)$$\n",
    "\n",
    "<img style=\"float: center;\" src=\"pics/Anomaly_detc_2_3.PNG\" width=400 height=400> \n",
    "\n",
    "3. **选择threshold**\n",
    "\n",
    "<img style=\"float: center;\" src=\"pics/Anomaly_detc_2_4.PNG\" width=400 height=400> "
   ]
  }
 ],
 "metadata": {
  "kernelspec": {
   "display_name": "Python 3 (ipykernel)",
   "language": "python",
   "name": "python3"
  },
  "language_info": {
   "codemirror_mode": {
    "name": "ipython",
    "version": 3
   },
   "file_extension": ".py",
   "mimetype": "text/x-python",
   "name": "python",
   "nbconvert_exporter": "python",
   "pygments_lexer": "ipython3",
   "version": "3.8.8"
  },
  "toc": {
   "base_numbering": 1,
   "nav_menu": {},
   "number_sections": true,
   "sideBar": true,
   "skip_h1_title": false,
   "title_cell": "Table of Contents",
   "title_sidebar": "Contents",
   "toc_cell": false,
   "toc_position": {},
   "toc_section_display": true,
   "toc_window_display": true
  },
  "varInspector": {
   "cols": {
    "lenName": 16,
    "lenType": 16,
    "lenVar": 40
   },
   "kernels_config": {
    "python": {
     "delete_cmd_postfix": "",
     "delete_cmd_prefix": "del ",
     "library": "var_list.py",
     "varRefreshCmd": "print(var_dic_list())"
    },
    "r": {
     "delete_cmd_postfix": ") ",
     "delete_cmd_prefix": "rm(",
     "library": "var_list.r",
     "varRefreshCmd": "cat(var_dic_list()) "
    }
   },
   "types_to_exclude": [
    "module",
    "function",
    "builtin_function_or_method",
    "instance",
    "_Feature"
   ],
   "window_display": false
  }
 },
 "nbformat": 4,
 "nbformat_minor": 5
}
