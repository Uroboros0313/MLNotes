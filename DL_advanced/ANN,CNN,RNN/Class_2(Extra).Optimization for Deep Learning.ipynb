{
 "cells": [
  {
   "cell_type": "markdown",
   "metadata": {},
   "source": [
    "> # Optimization for Deep Learning"
   ]
  },
  {
   "cell_type": "markdown",
   "metadata": {},
   "source": [
    "- $\\theta_t$:model parameters at time step $t$     \n",
    "\n",
    "- $\\nabla L(\\theta _t)\\; \\text{or} \\; g_t$:gradient at $\\theta_t$,used to compute $\\theta_{t+1}$\n",
    "\n",
    "- $m_{t+1}$:momentum(推进力;动力;势头;冲力;动量) accumulated(积累;积聚) from time step 0 to time step $t$,which is used to compute $\\theta_{t+1}$     \n",
    "（记录了每个time step的gradient，存在一些压缩，不会全部记录）"
   ]
  }
 ],
 "metadata": {
  "kernelspec": {
   "display_name": "tensorflow",
   "language": "python",
   "name": "tensorflow"
  },
  "language_info": {
   "codemirror_mode": {
    "name": "ipython",
    "version": 3
   },
   "file_extension": ".py",
   "mimetype": "text/x-python",
   "name": "python",
   "nbconvert_exporter": "python",
   "pygments_lexer": "ipython3",
   "version": "3.7.9"
  }
 },
 "nbformat": 4,
 "nbformat_minor": 4
}
