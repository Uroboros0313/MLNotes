{
 "cells": [
  {
   "cell_type": "markdown",
   "id": "5ac65af2",
   "metadata": {},
   "source": [
    "# Transformer的任务     \n",
    "\n",
    "- **模型决定应该输出几个label**(seq2seq)\n",
    "    - 语音辨识    \n",
    "    - 文本翻译\n",
    "    - 语音翻译\n",
    "    \n",
    "    \n",
    "NLP领域大部分的任务可以总结为QA——对机器输入一段文字，让机器给出一个答案\n",
    "    "
   ]
  },
  {
   "cell_type": "markdown",
   "id": "2a8c5f3a",
   "metadata": {},
   "source": [
    "# Autoregressive Decoder\n",
    "\n",
    "1. 首先通过`Encoder`输入一段序列信息，`Encoder`输出一个`hidden state`                   \n",
    "\n",
    "\n",
    "2. 向`Decoder`输入一个`<BOS>`(Begin of sentence)特殊符号，`Decoder`根据`hidden state`输出一个`vector`，和`vocabulary`一样长，即`softmax`操作，概率最大的是**第一个字符**               \n",
    "\n",
    "\n",
    "3. 接收第一个字符以后，以`<BOS>`和**第一个字符**作为第二次`Decoder`的输入                 \n",
    "\n",
    "\n",
    "4. 以此类推输出整个句子"
   ]
  },
  {
   "cell_type": "markdown",
   "id": "46c0c167",
   "metadata": {},
   "source": [
    "## Masked Multihead-selfattention      \n",
    "\n",
    "<img style=\"float: center;\" src=\"resource_pic\\Transformer\\Transformer_1_1.png\" width=500 height=500>\n",
    "\n",
    "`Masked`代表计算自注意力的时候，注意力只能关注**自己以及向前的时间步的信息**\n",
    "\n",
    "`Decoder`需要自己决定输出的长度:\n",
    "\n",
    "在`vocab`里加入一个`<END>`符号，代表句子的结束。当输出结束符号时，输出结束。"
   ]
  },
  {
   "cell_type": "markdown",
   "id": "caf52ff2",
   "metadata": {},
   "source": [
    "## Cross Multihead-attention\n",
    "\n",
    "<img style=\"float: center;\" src=\"resource_pic\\Transformer\\Transformer_1_2.png\" width=500 height=500>\n",
    "\n",
    "在`Decoder`经过`Masked Mutihead-selfattention`之后，`Encoder`输出的`activations`产生`key`和`query`，然后与解码器产生的值进行注意力操作"
   ]
  },
  {
   "cell_type": "markdown",
   "id": "e6aeeca2",
   "metadata": {},
   "source": [
    "# Inference"
   ]
  },
  {
   "cell_type": "markdown",
   "id": "be7112ce",
   "metadata": {},
   "source": [
    "`Decoder`的输出是多分类问题，训练的时候`Decoder`的输入是正确答案"
   ]
  },
  {
   "cell_type": "code",
   "execution_count": 1,
   "id": "125fc9d1",
   "metadata": {
    "ExecuteTime": {
     "end_time": "2022-07-26T17:25:53.635898Z",
     "start_time": "2022-07-26T17:25:51.542259Z"
    }
   },
   "outputs": [
    {
     "name": "stderr",
     "output_type": "stream",
     "text": [
      "D:\\Anaconda\\envs\\torch\\lib\\site-packages\\tqdm\\auto.py:22: TqdmWarning: IProgress not found. Please update jupyter and ipywidgets. See https://ipywidgets.readthedocs.io/en/stable/user_install.html\n",
      "  from .autonotebook import tqdm as notebook_tqdm\n"
     ]
    }
   ],
   "source": [
    "import torch\n",
    "import torch.nn as nn"
   ]
  },
  {
   "cell_type": "code",
   "execution_count": 7,
   "id": "b2a2ff2e",
   "metadata": {
    "ExecuteTime": {
     "end_time": "2022-07-26T17:28:32.803015Z",
     "start_time": "2022-07-26T17:28:32.793016Z"
    }
   },
   "outputs": [],
   "source": [
    "a,b = torch.Tensor([[1,2,3,4,5],[5,6,7,8,9]]),torch.Tensor([[4,5,6,7,8],[1,2,3,4,5]])"
   ]
  },
  {
   "cell_type": "code",
   "execution_count": 9,
   "id": "11b708b8",
   "metadata": {
    "ExecuteTime": {
     "end_time": "2022-07-26T17:30:00.942613Z",
     "start_time": "2022-07-26T17:30:00.929613Z"
    }
   },
   "outputs": [
    {
     "data": {
      "text/plain": [
       "tensor([[100.,  55.],\n",
       "        [220., 115.]])"
      ]
     },
     "execution_count": 9,
     "metadata": {},
     "output_type": "execute_result"
    }
   ],
   "source": [
    "torch.matmul(a,b.transpose(0,1))"
   ]
  },
  {
   "cell_type": "code",
   "execution_count": 10,
   "id": "eb87ba60",
   "metadata": {
    "ExecuteTime": {
     "end_time": "2022-07-26T17:35:48.946691Z",
     "start_time": "2022-07-26T17:35:48.938888Z"
    }
   },
   "outputs": [
    {
     "data": {
      "text/plain": [
       "tensor([[4., 1.],\n",
       "        [5., 2.],\n",
       "        [6., 3.],\n",
       "        [7., 4.],\n",
       "        [8., 5.]])"
      ]
     },
     "execution_count": 10,
     "metadata": {},
     "output_type": "execute_result"
    }
   ],
   "source": [
    "b.transpose(-1,-2)"
   ]
  },
  {
   "cell_type": "code",
   "execution_count": null,
   "id": "df620b74",
   "metadata": {},
   "outputs": [],
   "source": []
  }
 ],
 "metadata": {
  "kernelspec": {
   "display_name": "torch",
   "language": "python",
   "name": "torch"
  },
  "language_info": {
   "codemirror_mode": {
    "name": "ipython",
    "version": 3
   },
   "file_extension": ".py",
   "mimetype": "text/x-python",
   "name": "python",
   "nbconvert_exporter": "python",
   "pygments_lexer": "ipython3",
   "version": "3.7.0"
  },
  "toc": {
   "base_numbering": 1,
   "nav_menu": {},
   "number_sections": true,
   "sideBar": true,
   "skip_h1_title": false,
   "title_cell": "Table of Contents",
   "title_sidebar": "Contents",
   "toc_cell": false,
   "toc_position": {},
   "toc_section_display": true,
   "toc_window_display": false
  },
  "varInspector": {
   "cols": {
    "lenName": 16,
    "lenType": 16,
    "lenVar": 40
   },
   "kernels_config": {
    "python": {
     "delete_cmd_postfix": "",
     "delete_cmd_prefix": "del ",
     "library": "var_list.py",
     "varRefreshCmd": "print(var_dic_list())"
    },
    "r": {
     "delete_cmd_postfix": ") ",
     "delete_cmd_prefix": "rm(",
     "library": "var_list.r",
     "varRefreshCmd": "cat(var_dic_list()) "
    }
   },
   "types_to_exclude": [
    "module",
    "function",
    "builtin_function_or_method",
    "instance",
    "_Feature"
   ],
   "window_display": false
  }
 },
 "nbformat": 4,
 "nbformat_minor": 5
}
