{
 "cells": [
  {
   "cell_type": "markdown",
   "id": "c66b9d26",
   "metadata": {},
   "source": [
    "# 问题概述\n",
    "给出一个训练集: ${x^1,x^2...x^N}$\n",
    "\n",
    "给出一个$x$，异常检测器需要检测出$x$是否和训练资料相同\n",
    "\n",
    "## 应用\n",
    "\n",
    "- Fraud Detection\n",
    "\t- $training data$:正常刷卡行为 ,$x$:盗刷                            \n",
    "\tRef: https://www.kaggle.com/ntnu-testimon/paysim1/home                               \n",
    "\tRef: https://www.kaggle.com/mlg-ulb/creditcardfraud/home\n",
    "\n",
    "\n",
    "- Network Intrusion Detection\n",
    " \t- $training data$:正常连线 ,$x$:攻击行为                       \n",
    "\tRef: http://kdd.ics.uci.edu/databases/kddcup99/kddcup99.html\n",
    "\n",
    "\n",
    "- Cancer Detection\n",
    "\t- $training data$:正常细胞, $x$:癌细胞                     \n",
    "\tRef: https://www.kaggle.com/uciml/breast-cancer-wisconsin-data/home\n",
    "\n",
    "\n",
    "## 困难\n",
    "1. 异常资料的分类广                \n",
    "\n",
    "假设正常资料是宝可梦，那么不是宝可梦的训练数据非常多\n",
    "\n",
    "\n",
    "2. 异常资料收集困难                    \n",
    "\n",
    "异常交易当中正常数据易于收集，欺诈交易的数据比例较少\n",
    "\n",
    "## 异常检测的分类\n",
    "\n",
    "1. **Open-set Recognition**:                         \n",
    "    \n",
    "    训练资料的标签当中不存在\"unknown\"，但是分类器可以输出\"unknown\"的label\n",
    "\n",
    "\n",
    "2. 训练资料没有任何label:\n",
    "\t\n",
    "    - 训练数据是干净的(Clean)，全部训练数据是正常的(normal)\n",
    "\t- 训练数据是污染的(Polluted)，一部分训练数据是 (anomaly)\n",
    "\n",
    "<img style=\"float: center;\" src=\"pics/Anomaly_detc_1_1.PNG\" width=400 height=400> "
   ]
  },
  {
   "cell_type": "markdown",
   "id": "68bc43f9",
   "metadata": {},
   "source": [
    "# 例子     \n",
    "## 检测人物是否来自辛普森家庭\n",
    "\n",
    "- **训练数据**:\n",
    "辛普森家族的人物，每张图片有一个标签，代表人物是谁\n",
    "\n",
    "- **输出**:\n",
    "通过一个**CNN与softmax**会输出**该图片是哪个人物**的一个分布与`softmax`的概率。\n",
    "\n",
    "## 信度     \n",
    "\n",
    "希望神经网络在输出的时候**同时输出一个信度(Confidence)与一个类别(Class)**:\n",
    "<img style=\"float: center;\" src=\"pics/Anomaly_detc_1_2.PNG\" width=400 height=400> \n",
    "\n",
    "### 如何衡量信度    \n",
    "\n",
    "softmax中输出数值最大(the maximum scores of softmax)/取负交叉熵作信度(negative entropy)当作信度\n",
    "\n",
    "<img style=\"float: center;\" src=\"pics/Anomaly_detc_1_3.PNG\" width=400 height=400>\n",
    "\n",
    "### 正常样本和异常样本信度的分布差异     \n",
    "\n",
    "<img style=\"float: center;\" src=\"pics/Anomaly_detc_1_4.PNG\" width=400 height=400>"
   ]
  },
  {
   "cell_type": "markdown",
   "id": "e95c487c",
   "metadata": {},
   "source": [
    "# Dev Set\n",
    "\n",
    "`Dev Set`需要有一部分辛普森家族的图片和不是辛普森家族图片的人(不需要明确是谁)\n",
    "\n",
    "由于实际数据当中正例和负例比例非常悬殊，因此以准确率(acc)来衡量算法的优劣不够好。         \n",
    "\n",
    "例子，如果正例有95个，负例有5个，如果全部判断为正例，`acc`为`95%`\n",
    "\n",
    "## 异常检测评价方法\n",
    "\n",
    "### 两类错误\n",
    "\n",
    "1. 将正例判断为负例(`false alarm`)\n",
    "\n",
    "2. 将负例判断为正例(`missing`)\n",
    "\n",
    "<img style=\"float: center;\" src=\"pics/Anomaly_detc_1_5.PNG\" width=400 height=400>\n",
    "\n",
    "### Cost Table\n",
    "\n",
    "系统的好坏取决于两类错误的cost，所以会有一个cost table。                          \n",
    "除此之外还有AUC等方法\n",
    "\n",
    "<img style=\"float: center;\" src=\"pics/Anomaly_detc_1_6.PNG\" width=400 height=400>\n"
   ]
  }
 ],
 "metadata": {
  "kernelspec": {
   "display_name": "Python 3 (ipykernel)",
   "language": "python",
   "name": "python3"
  },
  "language_info": {
   "codemirror_mode": {
    "name": "ipython",
    "version": 3
   },
   "file_extension": ".py",
   "mimetype": "text/x-python",
   "name": "python",
   "nbconvert_exporter": "python",
   "pygments_lexer": "ipython3",
   "version": "3.8.8"
  },
  "toc": {
   "base_numbering": 1,
   "nav_menu": {},
   "number_sections": true,
   "sideBar": true,
   "skip_h1_title": false,
   "title_cell": "Table of Contents",
   "title_sidebar": "Contents",
   "toc_cell": false,
   "toc_position": {},
   "toc_section_display": true,
   "toc_window_display": true
  },
  "varInspector": {
   "cols": {
    "lenName": 16,
    "lenType": 16,
    "lenVar": 40
   },
   "kernels_config": {
    "python": {
     "delete_cmd_postfix": "",
     "delete_cmd_prefix": "del ",
     "library": "var_list.py",
     "varRefreshCmd": "print(var_dic_list())"
    },
    "r": {
     "delete_cmd_postfix": ") ",
     "delete_cmd_prefix": "rm(",
     "library": "var_list.r",
     "varRefreshCmd": "cat(var_dic_list()) "
    }
   },
   "types_to_exclude": [
    "module",
    "function",
    "builtin_function_or_method",
    "instance",
    "_Feature"
   ],
   "window_display": false
  }
 },
 "nbformat": 4,
 "nbformat_minor": 5
}
