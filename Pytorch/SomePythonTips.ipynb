{
 "cells": [
  {
   "cell_type": "markdown",
   "metadata": {},
   "source": [
    "# 类"
   ]
  },
  {
   "cell_type": "code",
   "execution_count": 1,
   "metadata": {},
   "outputs": [
    {
     "name": "stdout",
     "output_type": "stream",
     "text": [
      "person\n",
      "person\n"
     ]
    }
   ],
   "source": [
    "class P():\n",
    "    def __init__(self,height,name = \"person\"):\n",
    "        self.name = name\n",
    "        \n",
    "    def print_name(self):\n",
    "        print(self.name)\n",
    "\n",
    "p = P(height = 11)\n",
    "print(p.name)\n",
    "p.print_name()"
   ]
  },
  {
   "cell_type": "code",
   "execution_count": 2,
   "metadata": {},
   "outputs": [],
   "source": [
    "class P_i(P):\n",
    "    def __init__(self,new_name,age):\n",
    "        self.new_name = new_name\n",
    "        self.age = age\n",
    "pi = P_i(\"person\",12)\n",
    "# pi.print_name() #会出错 AttributeError: 'P_i' object has no attribute 'name'\n",
    "# 继承了函数，没有继承初始化函数"
   ]
  },
  {
   "cell_type": "code",
   "execution_count": 3,
   "metadata": {},
   "outputs": [
    {
     "name": "stdout",
     "output_type": "stream",
     "text": [
      "person\n"
     ]
    }
   ],
   "source": [
    "class P_ii(P):\n",
    "    def __init__(self,new_name,age):\n",
    "        self.new_name = new_name\n",
    "        self.age = age\n",
    "    \n",
    "    def print_name(self):\n",
    "        print(self.new_name)\n",
    "        \n",
    "\n",
    "pi = P_ii(\"person\",12)\n",
    "pi.print_name()"
   ]
  },
  {
   "cell_type": "code",
   "execution_count": 4,
   "metadata": {},
   "outputs": [
    {
     "name": "stdout",
     "output_type": "stream",
     "text": [
      "mynewname\n"
     ]
    },
    {
     "data": {
      "text/plain": [
       "12"
      ]
     },
     "execution_count": 4,
     "metadata": {},
     "output_type": "execute_result"
    }
   ],
   "source": [
    "class P_s(P):\n",
    "    def __init__(self,height,newname,age):\n",
    "        super().__init__(height,newname)\n",
    "        self.age = age\n",
    "\n",
    "ps = P_s(175,\"mynewname\",12)\n",
    "ps.print_name()\n",
    "ps.age"
   ]
  },
  {
   "cell_type": "code",
   "execution_count": 5,
   "metadata": {},
   "outputs": [
    {
     "name": "stdout",
     "output_type": "stream",
     "text": [
      "person\n"
     ]
    },
    {
     "data": {
      "text/plain": [
       "12"
      ]
     },
     "execution_count": 5,
     "metadata": {},
     "output_type": "execute_result"
    }
   ],
   "source": [
    "class P_ss(P):\n",
    "    def __init__(self,height=11,newname=11,age=11):\n",
    "        self.age = age\n",
    "        super().__init__(height)\n",
    "        \n",
    "\n",
    "ps = P_ss(175,\"mynewname\",12)\n",
    "ps.print_name()\n",
    "ps.age"
   ]
  },
  {
   "cell_type": "markdown",
   "metadata": {},
   "source": [
    "# 可变参数      \n",
    "\n",
    "`*args`表示任何多个无名参数，tuple类型；\n",
    "\n",
    "`**kwargs`表示关键字参数，dict类型。\n",
    "\n",
    "并且同时使用args和kwargs时，必须`*args`参数列要在`**kwargs`前，"
   ]
  },
  {
   "cell_type": "code",
   "execution_count": 6,
   "metadata": {},
   "outputs": [
    {
     "name": "stdout",
     "output_type": "stream",
     "text": [
      "k =  1\n",
      "m =  2\n",
      "args =  (3, 4)\n",
      "kwargs =  {}\n",
      "---------------------------------------\n",
      "k =  2\n",
      "m =  3\n",
      "args =  ()\n",
      "kwargs =  {'a': 1, 'b': 2, 'c': 3}\n",
      "---------------------------------------\n",
      "k =  1\n",
      "m =  2\n",
      "args =  (3, 4)\n",
      "kwargs =  {'a': 1, 'b': 2, 'c': 3}\n",
      "---------------------------------------\n",
      "k =  a\n",
      "m =  1\n",
      "args =  (None,)\n",
      "kwargs =  {'a': 1, 'b': '2', 'c': 3}\n",
      "---------------------------------------\n"
     ]
    }
   ],
   "source": [
    "def foo(k,m,*args, **kwargs):\n",
    "    print(\"k = \",k)\n",
    "    print(\"m = \",m)\n",
    "    print ('args = ', args)\n",
    "    print ('kwargs = ', kwargs)\n",
    "    print ('---------------------------------------')\n",
    "\n",
    "foo(1,2,3,4)\n",
    "foo(2,3,a=1,b=2,c=3)\n",
    "foo(1,2,3,4, a=1,b=2,c=3)\n",
    "foo('a', 1, None, a=1, b='2', c=3)"
   ]
  },
  {
   "cell_type": "code",
   "execution_count": 7,
   "metadata": {},
   "outputs": [
    {
     "name": "stdout",
     "output_type": "stream",
     "text": [
      "args =  (1, 2, 3, 4)\n",
      "kwargs =  {}\n",
      "---------------------------------------\n",
      "args =  (2, 3)\n",
      "kwargs =  {'a': 1, 'b': 2, 'c': 3}\n",
      "---------------------------------------\n",
      "args =  (1, 2, 3, 4)\n",
      "kwargs =  {'a': 1, 'b': 2, 'c': 3}\n",
      "---------------------------------------\n",
      "args =  ('a', 1, None)\n",
      "kwargs =  {'a': 1, 'b': '2', 'c': 3}\n",
      "---------------------------------------\n"
     ]
    }
   ],
   "source": [
    "def foo1(*args, **kwargs):\n",
    "    print ('args = ', args)\n",
    "    print ('kwargs = ', kwargs)\n",
    "    # 星号表达式(*expressoin)不可单独使用\n",
    "    print ('---------------------------------------')\n",
    "\n",
    "foo1(1,2,3,4)\n",
    "foo1(2,3,a=1,b=2,c=3)\n",
    "foo1(1,2,3,4, a=1,b=2,c=3)\n",
    "foo1('a', 1, None, a=1, b='2', c=3)"
   ]
  }
 ],
 "metadata": {
  "kernelspec": {
   "display_name": "pytorch",
   "language": "python",
   "name": "pytorch"
  },
  "language_info": {
   "codemirror_mode": {
    "name": "ipython",
    "version": 3
   },
   "file_extension": ".py",
   "mimetype": "text/x-python",
   "name": "python",
   "nbconvert_exporter": "python",
   "pygments_lexer": "ipython3",
   "version": "3.7.10"
  }
 },
 "nbformat": 4,
 "nbformat_minor": 4
}
