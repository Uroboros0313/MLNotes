{
 "cells": [
  {
   "cell_type": "markdown",
   "metadata": {},
   "source": [
    "# CNN     \n",
    "- **Why CNN for image**   \n",
    "当使用全连接神经网络时，数据时100×100像素，每个像素有三个参数——RGB，就有一万个参数。        \n",
    "CNN用以简化这个结构。    \n",
    "\n",
    "\n",
    "- **图像识别的属性**   \n",
    "1. 一些模式在图片中占比不大，因此一个神经元不需要去观察整个图片     \n",
    "2. 一个代表相同意义的模式可能在图片中的不同位置     \n",
    "3. 下采样（subsampled）图像像素可以减少参数但不会改变对象    "
   ]
  },
  {
   "cell_type": "markdown",
   "metadata": {},
   "source": [
    "# CNN的架构      \n",
    "- 图像输入——Convolution——Max Pooling——Convolution——Max Pooling    \n",
    "Convolution（处理图像识别的属性1、2）——Max Pooling（处理图像识别的属性3）过程可以重复多次(重复的次数需要事先决定，这是CNN的架构)    \n",
    "\n",
    "- Flatten\n",
    "- 输入全连接前馈神经网络   "
   ]
  },
  {
   "cell_type": "markdown",
   "metadata": {},
   "source": [
    "## Convolution (卷积)      \n",
    "假设有一组Filter和一个由0-1构成像素的黑白图片，将Filter放在图片的最左上方对应元素相乘，然后再每次移动一个stride实现对应元素相乘，会形成一个matrix。（如果处理RGB文件，是红黄蓝三色叠在一起，即3个Channel，那么Image是N×N×3，那么Filter的尺寸即n×n×3，然后Filter移动做内积——三个channel一起计算 ）\n",
    "\n",
    "假设Filter的对角线是1，那么这个Fiter要侦测的Pattern出现在生成的matrix中最大值处，因此该图片生成的matrix最大值处可以使用同一个Filter。多个Filter组合叫做**Feature Map（特征图）**     \n",
    "\n",
    "如下图的4×4位置处\n",
    "<img style=\"float: center;\" src=\"resource_pic/Class_6.CNN_1.PNG\" width=600 height=600>     \n",
    "\n",
    "\n",
    "### Filter与神经网络的关系\n",
    "- 把Filter拉直，在图片上对应的像素对应一个输入，那么这个Filter对应的Neuron只有n×n个输入而不是全连接的，需要的参数更少。    \n",
    "- 使不同的Neuron对同样像素的权值相同——shared weights，需要的参数更少。(在做Backpropagation时，shared weights的每个Neuron算出Gradient，然后所有Gradient平均，最后Update同样的值)\n",
    "<img style=\"float: center;\" src=\"resource_pic/Class_6.CNN_2.PNG\" width=600 height=600>"
   ]
  },
  {
   "cell_type": "markdown",
   "metadata": {},
   "source": [
    "## Max Pooling    \n",
    "假设通过2个Filter得到2个4×4的matrix，将2×2的归为一组，每组可以取平均/最大值，**合成为一个value——缩小Image**    \n",
    "<img style=\"float: left;\" src=\"resource_pic/Class_6.CNN_3.PNG\" width=400 height=400>          \n",
    "<img style=\"float: left;\" src=\"resource_pic/Class_6.CNN_3.PNG\" width=400 height=400>          "
   ]
  },
  {
   "cell_type": "markdown",
   "metadata": {},
   "source": [
    "## FLATTEN    \n",
    "把Feature Map拉直，输入全连接神经网络\n"
   ]
  },
  {
   "cell_type": "markdown",
   "metadata": {},
   "source": [
    "# 流程问题?/正则化问题"
   ]
  }
 ],
 "metadata": {
  "kernelspec": {
   "display_name": "Python 3",
   "language": "python",
   "name": "python3"
  },
  "language_info": {
   "codemirror_mode": {
    "name": "ipython",
    "version": 3
   },
   "file_extension": ".py",
   "mimetype": "text/x-python",
   "name": "python",
   "nbconvert_exporter": "python",
   "pygments_lexer": "ipython3",
   "version": "3.8.8"
  },
  "toc": {
   "base_numbering": 1,
   "nav_menu": {},
   "number_sections": true,
   "sideBar": true,
   "skip_h1_title": false,
   "title_cell": "Table of Contents",
   "title_sidebar": "Contents",
   "toc_cell": false,
   "toc_position": {},
   "toc_section_display": true,
   "toc_window_display": false
  },
  "varInspector": {
   "cols": {
    "lenName": 16,
    "lenType": 16,
    "lenVar": 40
   },
   "kernels_config": {
    "python": {
     "delete_cmd_postfix": "",
     "delete_cmd_prefix": "del ",
     "library": "var_list.py",
     "varRefreshCmd": "print(var_dic_list())"
    },
    "r": {
     "delete_cmd_postfix": ") ",
     "delete_cmd_prefix": "rm(",
     "library": "var_list.r",
     "varRefreshCmd": "cat(var_dic_list()) "
    }
   },
   "types_to_exclude": [
    "module",
    "function",
    "builtin_function_or_method",
    "instance",
    "_Feature"
   ],
   "window_display": false
  }
 },
 "nbformat": 4,
 "nbformat_minor": 4
}
