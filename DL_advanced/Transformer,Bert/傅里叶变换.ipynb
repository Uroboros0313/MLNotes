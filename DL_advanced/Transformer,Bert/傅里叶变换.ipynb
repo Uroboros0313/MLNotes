{
 "cells": [
  {
   "cell_type": "markdown",
   "id": "ab636853",
   "metadata": {},
   "source": [
    "# 傅里叶变换\n",
    "\n",
    "   \n",
    "\n",
    "\n",
    "## 傅里叶变换类型\n",
    "\n",
    "傅里叶变换：一种从时间到频率的变化或其相互转化。\n",
    "\n",
    "### 连续傅里叶变换\n",
    "一般情况下，若“傅里叶变换”一词不加任何限定语，则指的是“连续傅里叶变换”。                       \n",
    "\n",
    "连续傅里叶变换将**平方可积**的函数$f (t)$表示成**复指数函数的积分或级数形式**。    \n",
    "\n",
    "\n",
    "- 将频率域函数$F(\\omega)$表示为时间域上的函数$f(t)$的积分形式:\n",
    "\n",
    "$$F(\\omega)=F(f(t))=\\int \\limits^\\infty _{-\\infty} f(t)^{e^{-i\\omega t}} \\mathrm{d}t$$\n",
    "\n",
    "- 逆变换——将时间域函数表示为频率域函数的积分:\n",
    "\n",
    "$$f(t)=F^{-1}[F(\\omega)]=\\frac{1}{2\\pi}\\int\\limits ^\\infty_{-\\infty}F(w)e^{i\\omega t}\\mathrm{d}\\omega$$\n",
    "\n",
    "\n",
    "一般可称函数$f(t)$为**原函数**，而称函数$F(\\omega)$为傅里叶变换的**像函数**，原函数和像函数构成一个**傅里叶变换对（transform pair）**\n",
    "\n",
    "### 分数傅里叶变换\n",
    "\n",
    "分数傅里叶变换(fractional Fourier transform,FRFT)指的就是傅里叶变换(Fourier transform,FT)的广义化。\n",
    "\n",
    "分数傅里叶变换的物理意义即**做傅里叶变换 a 次，其中 a 不一定要为整数**；而做了分数傅里叶变换之后，信号或输入函数便会出现在**介于时域(time domain)与频域(frequency domain)之间的分数域(fractional domain)**。\n",
    "\n",
    "当$f(t)$为偶函数（或奇函数）时，其正弦（或余弦）分量将消亡，而可以称这时的变换为余弦变换（cosine transform）或正弦变换（sine transform）.\n",
    "\n"
   ]
  },
  {
   "cell_type": "markdown",
   "id": "0e23c871",
   "metadata": {},
   "source": [
    "## 离散时域傅里叶变换\n",
    "**离散傅里叶变换**是**离散时间傅里叶变换（DTFT）** 的特例（有时作为后者的近似）。\n",
    "   \n",
    "**DTFT在时域上离散，在频域上则是周期的**。DTFT可以被看作是**傅里叶级数的逆变换**。\n",
    "\n",
    "### 傅里叶级数\n",
    "\n",
    "连续形式的傅里叶变换其实是傅里叶级数 (Fourier series)的推广，因为积分其实是一种极限形式的求和算子而已。\n",
    "\n",
    "对于周期函数，其傅里叶级数是存在的：\n",
    "\n",
    "$$f(x) = \\sum\\limits^\\infty _{n=-\\infty} F_ne^{inx}$$\n",
    "\n",
    "其中$F_n$为复幅度。对于**实值函数**，函数的傅里叶级数可以写成：\n",
    "\n",
    "$$f(x) = a_0+\\sum\\limits^\\infty _{n=1} a_ncos(nx)+b_nsin(nx)$$\n",
    "\n",
    "其中$a_n$和$b_n$是**实频率分量的幅度**。\n",
    "\n",
    "### 离散傅里叶变换\n",
    "\n",
    "离散傅里叶变换（DFT），是**连续傅里叶变换在时域和频域上都离散**的形式，将时域信号的采样变换为在离散时间傅里叶变换（DTFT）频域的采样。\n",
    "\n",
    "在形式上，**变换两端（时域和频域上）的序列是有限长的**，而实际上这两组序列都应当被认为是离散周期信号的主值序列。即使对有限长的离散信号作DFT，也应当将其看作**经过周期延拓成为周期信号再作变换**。\n",
    "\n",
    "   为了在科学计算和数字信号处理等领域使用计算机进行傅里叶变换，必须将函数$x_n$定义在离散点而非连续域内，且须满足有限性或周期性条件。这种情况下，使用离散傅里叶变换（DFT），将函数$x_n$表示为下面的求和形式："
   ]
  },
  {
   "cell_type": "markdown",
   "id": "5b22e0bb",
   "metadata": {},
   "source": []
  }
 ],
 "metadata": {
  "kernelspec": {
   "display_name": "Python 3",
   "language": "python",
   "name": "python3"
  },
  "language_info": {
   "codemirror_mode": {
    "name": "ipython",
    "version": 3
   },
   "file_extension": ".py",
   "mimetype": "text/x-python",
   "name": "python",
   "nbconvert_exporter": "python",
   "pygments_lexer": "ipython3",
   "version": "3.8.8"
  },
  "toc": {
   "base_numbering": 1,
   "nav_menu": {},
   "number_sections": true,
   "sideBar": true,
   "skip_h1_title": false,
   "title_cell": "Table of Contents",
   "title_sidebar": "Contents",
   "toc_cell": false,
   "toc_position": {},
   "toc_section_display": true,
   "toc_window_display": false
  },
  "varInspector": {
   "cols": {
    "lenName": 16,
    "lenType": 16,
    "lenVar": 40
   },
   "kernels_config": {
    "python": {
     "delete_cmd_postfix": "",
     "delete_cmd_prefix": "del ",
     "library": "var_list.py",
     "varRefreshCmd": "print(var_dic_list())"
    },
    "r": {
     "delete_cmd_postfix": ") ",
     "delete_cmd_prefix": "rm(",
     "library": "var_list.r",
     "varRefreshCmd": "cat(var_dic_list()) "
    }
   },
   "types_to_exclude": [
    "module",
    "function",
    "builtin_function_or_method",
    "instance",
    "_Feature"
   ],
   "window_display": false
  }
 },
 "nbformat": 4,
 "nbformat_minor": 5
}
