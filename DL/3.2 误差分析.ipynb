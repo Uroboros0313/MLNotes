{
 "cells": [
  {
   "cell_type": "markdown",
   "metadata": {},
   "source": [
    "# WEEK2    \n",
    ">## 误差分析   \n",
    "\n",
    "人工检查一下你的算法犯的错误也许可以了解接下来应该做什么，这个过程称为**错误分析**     \n",
    "\n",
    "假设一个猫分类器模型，错误率10%，存在以下问题   \n",
    "- 将狗识别为猫\n",
    "- 将一些猫科动物识别为猫  \n",
    "- 在模糊图片上的分类能力低    \n",
    "\n",
    "可以采用以下方法，建立一个表格，**行索引代表开发集样例序号，列索引代表分类器存在的问题以及备注**    \n",
    "在每个样例对应的问题下打勾，如果有其余情况则统计在备注里。最后统计出每种问题所占的比例。\n",
    "<img style=\"float: center;\" src=\"course_3_pics/week_2_1.png\" width=500 height=500>       \n",
    "\n",
    "进行错误分析，应该找一组错误样本，可能在你的开发集里或者测试集里，观察错误标记的样本，看看**假阳性（false positives）和假阴性（false negatives），统计属于不同错误类型的错误数量**。在这个过程中，会得到启发，归纳出新的错误类型并提供优化的方向。    \n",
    "\n",
    ">## 清除标注错误的数据    \n",
    "\n",
    "### 训练集\n",
    "监督学习问题的数据由输入$x$和输出标签$y$构成，发现有些**训练集**输出标签$y$是错的——如果是随机误差，不修正不会有多大害处。            \n",
    "深度学习算法对**随机误差**很健壮，但**对系统性的错误不够健壮** ——比如将所有白色的狗都标记成了猫    \n",
    "\n",
    "### 开发集/测试集\n",
    "衡量开发集或测试集上标记出错的样本带来的影响:在错误分析时，添加一个额外的列，统计标记错误而不是分类错误的百分比。\n",
    "<img style=\"float: center;\" src=\"course_3_pics/week_2_2.png\" width=500 height=500>      \n",
    "\n",
    "- 假设错误样例共100张，占比10%，其中由于标记错误的有6张，因此由于开发集中标记错误的仅占$0.6\\%$，可以致力于其余的更有价值的优化方向        \n",
    "\n",
    "- 假设错误样例共20张，占比2%，其中由于标记错误的有6张，因此由于开发集中标记错误的占$30\\%$，那么修正标记错误更有价值       \n",
    "\n",
    ">## 使用来自不同分布的数据，进行训练和测试     \n",
    "\n",
    "假设实际情况中面对的数据与可获取数据不同，并且可获取数据量较大，实际情况中数据量较小(例如车载语音中通话语音、视频语音(获取的数据)和实际行车过程中的语音(实际情况中面对额数据))。那么尽量将**实际情况中面对额数据作为开发集与测试集**，因为**该数据分布是优化的目标**。     \n",
    "<img style=\"float: center;\" src=\"course_3_pics/week_2_3.png\" width=500 height=500>\n",
    "\n",
    ">## 数据分布不匹配时，偏差与方差的分析    \n",
    "\n",
    "当训练集来自和开发集、测试集不同分布时，分析偏差和方差的方式不一样          \n",
    "\n",
    "假设一个样本，训练集误差是1%，开发集误差是10%，如果**开发集来自和训练集一样的分布**，那么可能存在很大的方差问题。\n",
    "\n",
    "但如果**训练数据和开发数据来自不同的分布**，这个结论不一定再适用。特别是，也许算法在训练集上做得不错，可能因为训练集很容易识别(比如高分辨率图片)，**但开发集要难以识别得多。所以也许没有方差问题**，这只不过反映了开发集包含更难准确分类的样例。\n",
    "\n",
    "在分布不同时，误差分析存在两个问题有两件事变了。首先算法只见过训练集数据，没见过开发集数据。第二，开发集数据来自不同的分布。而且因为你同时改变了两件事情，很难确认这增加的9%误差率有多少是因为算法没看到开发集中的数据导致的，这是问题方差的部分，有多少是因为开发集数据就是不一样。\n",
    "\n",
    "为了弄清楚哪个因素影响更大，如果你完全不懂这两种影响到底是什么，别担心我们马上会再讲一遍。但为了分辨清楚两个因素的影响，定义一组新的数据是有意义的，我们称之为训练-开发集，所以这是一个新的数据子集。我们应该从训练集的分布里挖出来，但你不会用来训练你的网络。"
   ]
  }
 ],
 "metadata": {
  "kernelspec": {
   "display_name": "Python 3 (ipykernel)",
   "language": "python",
   "name": "python3"
  },
  "language_info": {
   "codemirror_mode": {
    "name": "ipython",
    "version": 3
   },
   "file_extension": ".py",
   "mimetype": "text/x-python",
   "name": "python",
   "nbconvert_exporter": "python",
   "pygments_lexer": "ipython3",
   "version": "3.8.8"
  },
  "toc": {
   "base_numbering": 1,
   "nav_menu": {},
   "number_sections": true,
   "sideBar": true,
   "skip_h1_title": false,
   "title_cell": "Table of Contents",
   "title_sidebar": "Contents",
   "toc_cell": false,
   "toc_position": {},
   "toc_section_display": true,
   "toc_window_display": false
  },
  "varInspector": {
   "cols": {
    "lenName": 16,
    "lenType": 16,
    "lenVar": 40
   },
   "kernels_config": {
    "python": {
     "delete_cmd_postfix": "",
     "delete_cmd_prefix": "del ",
     "library": "var_list.py",
     "varRefreshCmd": "print(var_dic_list())"
    },
    "r": {
     "delete_cmd_postfix": ") ",
     "delete_cmd_prefix": "rm(",
     "library": "var_list.r",
     "varRefreshCmd": "cat(var_dic_list()) "
    }
   },
   "types_to_exclude": [
    "module",
    "function",
    "builtin_function_or_method",
    "instance",
    "_Feature"
   ],
   "window_display": false
  }
 },
 "nbformat": 4,
 "nbformat_minor": 4
}
