{
 "cells": [
  {
   "cell_type": "markdown",
   "id": "4585b266",
   "metadata": {},
   "source": [
    "# 循环神经网络\n"
   ]
  },
  {
   "cell_type": "markdown",
   "id": "da609f28",
   "metadata": {},
   "source": [
    "## 读取数据集\n"
   ]
  },
  {
   "cell_type": "code",
   "execution_count": 3,
   "id": "77fc437f",
   "metadata": {
    "ExecuteTime": {
     "end_time": "2022-02-07T14:14:08.742614Z",
     "start_time": "2022-02-07T14:14:08.730645Z"
    }
   },
   "outputs": [
    {
     "data": {
      "text/plain": [
       "'想要有直升机\\n想要和你飞到宇宙去\\n想要和你融化在一起\\n融化在宇宙里\\n我每天每天每'"
      ]
     },
     "execution_count": 3,
     "metadata": {},
     "output_type": "execute_result"
    }
   ],
   "source": [
    "import torch\n",
    "import random\n",
    "import zipfile\n",
    "\n",
    "with zipfile.ZipFile('./data/jaychou_lyrics.txt.zip') as zin:\n",
    "    with zin.open('jaychou_lyrics.txt') as f:\n",
    "        corpus_chars = f.read().decode('utf-8')\n",
    "corpus_chars[:40]"
   ]
  },
  {
   "cell_type": "code",
   "execution_count": 4,
   "id": "19af4afe",
   "metadata": {
    "ExecuteTime": {
     "end_time": "2022-02-07T14:17:16.323049Z",
     "start_time": "2022-02-07T14:17:16.316067Z"
    }
   },
   "outputs": [],
   "source": [
    "corpus_chars = corpus_chars.replace(\"\\n\",\" \").replace(\"\\r\",\" \")\n",
    "corpus_chars = corpus_chars[0:10000]"
   ]
  },
  {
   "cell_type": "markdown",
   "id": "75d66a8a",
   "metadata": {},
   "source": [
    "## 建立字符索引\n",
    "\n",
    "将每个字符映射成一个从0开始的连续整数，又称`索引`，来方便之后的数据处理。为了得到索引，将数据集里所有不同字符取出来，然后将其逐一映射到索引来构造词典。接着，打印`vocab_size`，即词典中不同字符的个数，又称`词典大小`。"
   ]
  },
  {
   "cell_type": "code",
   "execution_count": 5,
   "id": "5a2be9af",
   "metadata": {
    "ExecuteTime": {
     "end_time": "2022-02-07T14:23:03.794064Z",
     "start_time": "2022-02-07T14:23:03.780104Z"
    }
   },
   "outputs": [
    {
     "data": {
      "text/plain": [
       "1027"
      ]
     },
     "execution_count": 5,
     "metadata": {},
     "output_type": "execute_result"
    }
   ],
   "source": [
    "idx_to_char = list(set(corpus_chars))\n",
    "char_to_idx = dict([(char,i) for i , char in enumerate(idx_to_char)])\n",
    "vocab_size = len(char_to_idx)\n",
    "vocab_size"
   ]
  },
  {
   "cell_type": "code",
   "execution_count": 6,
   "id": "c08bc48d",
   "metadata": {
    "ExecuteTime": {
     "end_time": "2022-02-07T14:46:52.496168Z",
     "start_time": "2022-02-07T14:46:52.486635Z"
    }
   },
   "outputs": [
    {
     "name": "stdout",
     "output_type": "stream",
     "text": [
      "chars: 想要有直升机 想要和你飞到宇宙去 想要和\n",
      "indices: [197, 239, 551, 814, 850, 900, 86, 197, 239, 707, 546, 439, 472, 58, 297, 875, 86, 197, 239, 707]\n"
     ]
    }
   ],
   "source": [
    "corpus_indices = [char_to_idx[char] for char in corpus_chars]\n",
    "sample = corpus_indices[:20]\n",
    "print(\"chars:\",\"\".join([idx_to_char[idx] for idx in sample]))\n",
    "print(\"indices:\",sample)"
   ]
  },
  {
   "cell_type": "markdown",
   "id": "6d34205a",
   "metadata": {},
   "source": [
    "## 时序数据的采样\n",
    "\n",
    "在训练中我们需要每次随机读取`小批量样本和标签`。`时序数据的一个样本通常包含连续的字符`。\n",
    "\n",
    "假设时间步数为5，样本序列为5个字符，即`“想”“要”“有”“直”“升”`。\n",
    "\n",
    "该样本的标签序列为这些字符分别在训练集中的下一个字符，即`“要”“有”“直”“升”“机”`。\n",
    "\n",
    "有两种方式对时序数据进行采样，分别是`随机采样`和`相邻采样`。\n",
    "\n",
    "## 随机采样\n",
    "\n",
    "每次从数据里随机采样一个小批量。其中批量大小`batch_size`指每个小批量的样本数，`num_steps`为每个样本所包含的时间步数。 \n",
    "\n",
    "在随机采样中，每个样本是原始序列上任意截取的一段序列。相邻的两个随机小批量`在原始序列上的位置不一定相毗邻`。\n",
    "\n",
    "因此，无法用一个小批量最终时间步的隐藏状态来初始化下一个小批量的隐藏状态。在训练模型时，`每次随机采样前都需要重新初始化隐藏状态`。"
   ]
  },
  {
   "cell_type": "code",
   "execution_count": null,
   "id": "111a741b",
   "metadata": {},
   "outputs": [],
   "source": [
    "def data_iter_random(corpus_indices,batch_size,num_steps,device = None):\n",
    "    # 减1是因为输出的索引x是相应输入的索引y加1\n",
    "    num_examples = (len(corpus_indices) - 1)//num_steps\n",
    "    epoch_size = num_examples//batch_size\n",
    "    example_indices = list(range(num_examples))\n",
    "    random.shuffle(example_indices)\n",
    "    \n",
    "    # 返回从pos开始的长为num_steps的序列\n",
    "    def _data(pos):\n",
    "        return corpus_indices[pos:pos+num_steps]\n",
    "    if device == None:\n",
    "        device = torch.device(\"cuda\" if torch.cuda.is_available() else \"cpu\")\n",
    "    \n",
    "    for i in range(epoch_size):\n",
    "        # 每次读取batch_size个样本\n",
    "        i = i*batch_size\n",
    "        batch_indices = example_indices[i:i+batch_size]"
   ]
  }
 ],
 "metadata": {
  "kernelspec": {
   "display_name": "torch",
   "language": "python",
   "name": "torch"
  },
  "language_info": {
   "codemirror_mode": {
    "name": "ipython",
    "version": 3
   },
   "file_extension": ".py",
   "mimetype": "text/x-python",
   "name": "python",
   "nbconvert_exporter": "python",
   "pygments_lexer": "ipython3",
   "version": "3.7.12"
  },
  "toc": {
   "base_numbering": 1,
   "nav_menu": {},
   "number_sections": true,
   "sideBar": true,
   "skip_h1_title": false,
   "title_cell": "Table of Contents",
   "title_sidebar": "Contents",
   "toc_cell": false,
   "toc_position": {},
   "toc_section_display": true,
   "toc_window_display": false
  },
  "varInspector": {
   "cols": {
    "lenName": 16,
    "lenType": 16,
    "lenVar": 40
   },
   "kernels_config": {
    "python": {
     "delete_cmd_postfix": "",
     "delete_cmd_prefix": "del ",
     "library": "var_list.py",
     "varRefreshCmd": "print(var_dic_list())"
    },
    "r": {
     "delete_cmd_postfix": ") ",
     "delete_cmd_prefix": "rm(",
     "library": "var_list.r",
     "varRefreshCmd": "cat(var_dic_list()) "
    }
   },
   "types_to_exclude": [
    "module",
    "function",
    "builtin_function_or_method",
    "instance",
    "_Feature"
   ],
   "window_display": false
  }
 },
 "nbformat": 4,
 "nbformat_minor": 5
}
