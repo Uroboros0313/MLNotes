{
 "cells": [
  {
   "cell_type": "markdown",
   "id": "5d75e471",
   "metadata": {},
   "source": [
    "# GNN     \n",
    "\n",
    "## GNN的问题  \n",
    "\n",
    "主要问题:如何把Graph的feature放进神经网络\n",
    "\n",
    "- Graph非常大，怎样训练   \n",
    "- 不能对每个node都做labeling——利用邻接节点的label来构建unlabeled node      \n",
    "\n",
    "<img style=\"float: center;\" src=\"resource_pic/GNN/GNN_1_1.PNG\" width=600 height=600> "
   ]
  },
  {
   "cell_type": "markdown",
   "id": "2e81fdee",
   "metadata": {},
   "source": [
    "## GNN的方法      \n",
    "\n",
    "1. 利用卷积的方法通过邻居节点来更新feature map      \n",
    "\n",
    "2. 利用信号理论——傅里叶变换        \n",
    "\n",
    "### 卷积方法     \n",
    "\n",
    "1. spatial-based       \n",
    "\n",
    "\n",
    "2. spectral-based(光谱的)        \n",
    "\n",
    "<img style=\"float: center;\" src=\"resource_pic/GNN/GNN_1_2.PNG\" width=800 height=800> "
   ]
  },
  {
   "cell_type": "markdown",
   "id": "c464e91d",
   "metadata": {},
   "source": [
    "## Spatial-based GNN      \n",
    "\n",
    "- Aggregate: 用 neighbor feature update 下一层的 hidden state       \n",
    "\n",
    "\n",
    "- Readout: 把所有 nodes 的 feature 集合起来代表整个 graph\n",
    "\n",
    "<img style=\"float: center;\" src=\"resource_pic/GNN/GNN_1_3.PNG\" width=800 height=800>       \n",
    "\n",
    "### NN4G(Neural Network for Graph)    \n",
    "\n",
    "一个graph，由$V = {v_0,v_1,...,v_n},X = {x_0,x_1,...,x_n}$组成；$X$代表每个node的feature       \n",
    "\n",
    "#### Aggregation\n",
    "\n",
    "1. 用$V,X$表示一个graph       \n",
    "\n",
    "\n",
    "2. 对每个节点做embedding,即$h_i^0 = \\bar w_0 \\dot x_i$        \n",
    "\n",
    "\n",
    "3. 对每个节点做aggregation， 即对邻接节点做$h_{3,1} = \\hat w_{3,0} \\dot (h_0^0+h_2^0+h_4^0)+h_3^0$。将邻接节点的embedding相加以后乘以一个weight，最后加上上一层的value                \n",
    "\n",
    "<img style=\"float: center;\" src=\"resource_pic/GNN/GNN_1_4.PNG\" width=600 height=600>   \n",
    "\n",
    "#### Readout\n",
    "\n",
    "将每层每个节点值做平均，之后乘以一个weight输出最终的$y$\n",
    "\n",
    "<img style=\"float: center;\" src=\"resource_pic/GNN/GNN_1_5.PNG\" width=600 height=600>   "
   ]
  },
  {
   "cell_type": "markdown",
   "id": "d55baee4",
   "metadata": {},
   "source": [
    "### DCNN (Diffusion-Convolution Neural Network )        \n",
    "\n",
    "1. 原Graph为第0层       \n",
    "\n",
    "\n",
    "2. 从第一层开始，第$i$层计算与node距离为$i$的节点feature的均值，并乘以一个参数     \n",
    "\n",
    "\n",
    "3. 最后将所有feature都concat在一起，乘以一个权重矩阵得出最后结果     \n",
    "\n",
    "<img style=\"float: center;\" src=\"resource_pic/GNN/GNN_1_6.PNG\" width=600 height=600>\n",
    "<img style=\"float: center;\" src=\"resource_pic/GNN/GNN_1_7.PNG\" width=600 height=600>\n",
    "\n",
    "### DCN    \n",
    "\n",
    "将DCNN第三步中的所有feature相加    \n",
    "\n",
    "\n"
   ]
  },
  {
   "cell_type": "markdown",
   "id": "9a017e52",
   "metadata": {},
   "source": [
    "### MoNet(Mixture Model Networks)      \n",
    "\n",
    "定义Graph当中边之间的权重——node distance       \n",
    "\n",
    "在update node的值时，计算加权平均数，权重为$u(x,y) = (\\cfrac{1}{\\sqrt{deg(x)}},\\cfrac{1}{\\sqrt{deg(y)}})^T$       \n",
    "\n",
    "<img style=\"float: center;\" src=\"resource_pic/GNN/GNN_1_8.PNG\" width=600 height=600>"
   ]
  },
  {
   "cell_type": "markdown",
   "id": "7aa40234",
   "metadata": {},
   "source": [
    "### GAT (Graph Attention Networks)\n",
    "\n",
    "计算对不同邻接点的energy——注意力(邻接node的feature的相似度):      \n",
    "\n",
    "<img style=\"float: center;\" src=\"resource_pic/GNN/GNN_1_9.PNG\" width=600 height=600>\n",
    "\n",
    "<img style=\"float: center;\" src=\"resource_pic/GNN/GNN_1_10.PNG\" width=600 height=600>"
   ]
  }
 ],
 "metadata": {
  "kernelspec": {
   "display_name": "Python 3 (ipykernel)",
   "language": "python",
   "name": "python3"
  },
  "language_info": {
   "codemirror_mode": {
    "name": "ipython",
    "version": 3
   },
   "file_extension": ".py",
   "mimetype": "text/x-python",
   "name": "python",
   "nbconvert_exporter": "python",
   "pygments_lexer": "ipython3",
   "version": "3.8.8"
  },
  "toc": {
   "base_numbering": 1,
   "nav_menu": {},
   "number_sections": true,
   "sideBar": true,
   "skip_h1_title": false,
   "title_cell": "Table of Contents",
   "title_sidebar": "Contents",
   "toc_cell": false,
   "toc_position": {
    "height": "calc(100% - 180px)",
    "left": "10px",
    "top": "150px",
    "width": "238.825px"
   },
   "toc_section_display": true,
   "toc_window_display": false
  },
  "varInspector": {
   "cols": {
    "lenName": 16,
    "lenType": 16,
    "lenVar": 40
   },
   "kernels_config": {
    "python": {
     "delete_cmd_postfix": "",
     "delete_cmd_prefix": "del ",
     "library": "var_list.py",
     "varRefreshCmd": "print(var_dic_list())"
    },
    "r": {
     "delete_cmd_postfix": ") ",
     "delete_cmd_prefix": "rm(",
     "library": "var_list.r",
     "varRefreshCmd": "cat(var_dic_list()) "
    }
   },
   "types_to_exclude": [
    "module",
    "function",
    "builtin_function_or_method",
    "instance",
    "_Feature"
   ],
   "window_display": false
  }
 },
 "nbformat": 4,
 "nbformat_minor": 5
}
