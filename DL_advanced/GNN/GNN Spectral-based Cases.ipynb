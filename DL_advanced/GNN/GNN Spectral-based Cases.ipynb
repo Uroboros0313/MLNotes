{
 "cells": [
  {
   "cell_type": "markdown",
   "id": "ab518bdb",
   "metadata": {},
   "source": [
    "# ChebNet\n",
    "\n",
    "## 基本方法     \n",
    "\n",
    "$$g_\\theta(L) = \\sum^K_{k=0} \\theta_kL^K$$              \n",
    "\n",
    "1. 由于只计算了$K$次方，因此此时是可局部化的——$K-localized$\n",
    "\n",
    "2. 仅计算$K$个矩阵的加权和的权重$\\theta_k$，因此计算复杂度为$o(K)$\n",
    "\n",
    "$$g_\\theta(\\Lambda) = \\sum^K_{k=0} \\theta_k\\Lambda^K$$\n",
    "\n",
    "$$y =U g_\\theta(\\Lambda)\\hat x = U \\sum^K_{k=0} \\theta_k\\Lambda^KU^T x $$\n",
    "\n",
    "<font color='red'> 问题：ChebNet有一个问题——即在做谱分解以及计算$\\Lambda^K$时会有$o(N^2)$的计算复杂度，该计算复杂度到底出现在哪里 </font>"
   ]
  },
  {
   "cell_type": "markdown",
   "id": "6bc1e117",
   "metadata": {},
   "source": [
    "## 切比雪夫多项式(Chebyshev polynomial)\n",
    "\n",
    "### 切比雪夫多项式概念\n",
    "\n",
    "定义在一个递归上的多项式:   \n",
    "\n",
    "$T_0(x) = 1,\\\\\n",
    "T_1(x) = x,\\\\\n",
    "T_k\\ (x) = 2xT_{k-1}\\ (x)-T_{k-2}\\ (x)\\\\\n",
    "x\\in [-1,1]$\n",
    "\n",
    "### ChebNet中的切比雪夫多项式     \n",
    "\n",
    "令$\\tilde{\\Lambda} = \\cfrac{2\\Lambda}{\\lambda_{max}}-I$\n",
    "\n",
    "$T_0(\\tilde{\\Lambda}) = I,T_1(\\tilde{\\Lambda}) = \\tilde{\\Lambda},T_k\\ (\\tilde{\\Lambda}) = 2\\tilde{\\Lambda}T_{k-1}\\ (\\tilde{\\Lambda})-T_{k-2}\\ (\\tilde{\\Lambda}),\\tilde{\\lambda}\\in [-1,1]$\n",
    "\n",
    "\n",
    "- **现在令$\\theta'_k$为我们要学习的参数,目的是降低计算复杂度，让$T_{k} (\\tilde{\\Lambda})$是一个易于计算的多项式**\n",
    "\n",
    "$$g_\\theta(\\Lambda) = \\sum^K_{k=0} \\theta_k\\Lambda^K$$\n",
    "\n",
    "<font color='blue'> $$\\rightarrow g_{\\theta'}(\\tilde{\\Lambda}) = \\sum^K_{k=0} \\theta'_kT_{k} (\\tilde{\\Lambda})$$</font>\n",
    "\n",
    "\n",
    "由于\n",
    "\n",
    "$$\n",
    "y= g_{\\theta'}(\\tilde{L}) = \\sum^K_{k=0} \\theta'_kT_{k} (\\tilde{L})x\\\\\n",
    " =  \\theta'_0T_{0} (\\tilde{L})x+\\theta'_1T_{1} (\\tilde{L})x+...\\theta'_{K-1}T_{K-1} (\\tilde{L})x+\\theta'_KT_{K} (\\tilde{L})x\n",
    "$$\n",
    "\n",
    "令$$T_{k} (\\tilde{L})x = \\bar{x}_k$$\n",
    "\n",
    "$$\n",
    "y= g_{\\theta'}(\\tilde{L}) = \\sum^K_{k=0} \\theta'_kT_{k} (\\tilde{L})x\\\\\n",
    " =  \\theta'_0\\bar x_{0}+\\theta'_1\\bar x_{1} +...\\theta'_{K-1}\\bar x_{K-1}+\\theta'_K\\bar x_{K} \\\\\n",
    "  = [\\bar x_{0},\\bar x_{1},...\\bar x_{K-1},\\bar x_{K}]^T[\\theta'_0,\\theta'_1,...\\theta'_{K-1},\\theta'_{K}]\n",
    "$$\n",
    "\n",
    "在该式子中，计算$\\bar x_k = 2\\tilde{L}\\bar x_{k-1}-\\bar x_{k-2}$，由于进行递归的计算，每次计算的复杂度为$o(E)$,$K$次计算总复杂度为$o(KE)$"
   ]
  },
  {
   "cell_type": "markdown",
   "id": "38e3d1f5",
   "metadata": {},
   "source": [
    "# GCN\n",
    "\n",
    "## 基本公式\n",
    "\n",
    "$$y= g_{\\theta'}(\\tilde{L}) = \\sum^K_{k=0} \\theta'_kT_{k} (\\tilde{L})x,K=1$$\n",
    "$$\\rightarrow y = \\theta'_0x+\\theta'_1\\tilde{L}x$$\n",
    "\n",
    "其中$\\tilde{L} = \\cfrac{2L}{\\lambda_{max}}-I$\n",
    "\n",
    "$$\\rightarrow y = \\theta'_0x+\\theta'_1\\tilde{L}x\\\\\n",
    "=\\theta'_0x+\\theta'_1( \\cfrac{2L}{\\lambda_{max}}-I)x$$\n",
    "\n",
    "由于拉普拉斯矩阵为$L=I-D^{-1/2}AD^{-1/2}$，**该拉普拉斯矩阵中的$\\lambda_{max}\\leq 2$**，因此令$\\lambda_{max} \\approx 2$，上式等于:\n",
    "\n",
    "$$\\rightarrow y = \\theta'_0x+\\theta'_1(L-I)x\\\\\n",
    " = \\theta'_0x-\\theta'_1(D^{-1/2}AD^{-1/2})x$$\n",
    " \n",
    " 此时**设**$\\theta = \\theta'_0 = -\\theta'_1$，上式得到:\n",
    " \n",
    " $$\\rightarrow y =\\theta'_0x-\\theta'_1(D^{-1/2}AD^{-1/2})x\\\\\n",
    " = \\theta (I+D^{-1/2}AD^{-1/2})x$$\n",
    " \n",
    " 论文中提出——renormalization trick:$I_N+D^{-1/2}AD^{-1/2}\\rightarrow \\tilde{D}^{-1/2}\\tilde{A}\\tilde{D}^{-1/2}$\n",
    " \n",
    " <font color = \"red\">用该方法处理后$\\tilde A$对角线上每个非$1$元素都变为$1$</font>\n",
    " \n",
    " \n",
    "-  **最终处理后GCN前向公式可以表示为:**\n",
    " \n",
    " $$H^{(l+1)} = \\sigma(\\tilde{D}^{-1/2}\\tilde{A}\\tilde{D}^{-1/2}H^{(l)}W^{(l)})$$\n",
    " \n",
    " $$h_v = f(\\frac{1}{|N (v)|}\\sum_{u \\in N(v)}WX_u+b)$$\n",
    " \n",
    "该公式实际上在做的是——***update***一个点的***feature map***：<font color = \"red\">把$X_u$通过***Transfrom***之后</font>，将它自己和它的邻居节点加起来，取平均，加上一个***bias***，通过一个***activation***，最后得到下一层的值\n",
    "\n",
    "\n",
    "## GCN的问题    \n",
    "\n",
    "<font color = \"red\">1. 深层GCN的Aggregate容易造成过度smooth问题——GCN的子图的***node feature***在经过深层后会收敛到同一个值</font>\n",
    "\n",
    "<img style=\"float: center;\" src=\"resource_pic/GNN/GNN_1_25.PNG\" width=600 height=600>\n",
    "\n",
    "**如何处理**——DropEdge"
   ]
  }
 ],
 "metadata": {
  "kernelspec": {
   "display_name": "Python 3 (ipykernel)",
   "language": "python",
   "name": "python3"
  },
  "language_info": {
   "codemirror_mode": {
    "name": "ipython",
    "version": 3
   },
   "file_extension": ".py",
   "mimetype": "text/x-python",
   "name": "python",
   "nbconvert_exporter": "python",
   "pygments_lexer": "ipython3",
   "version": "3.8.8"
  },
  "toc": {
   "base_numbering": 1,
   "nav_menu": {},
   "number_sections": true,
   "sideBar": true,
   "skip_h1_title": false,
   "title_cell": "Table of Contents",
   "title_sidebar": "Contents",
   "toc_cell": false,
   "toc_position": {},
   "toc_section_display": true,
   "toc_window_display": false
  },
  "varInspector": {
   "cols": {
    "lenName": 16,
    "lenType": 16,
    "lenVar": 40
   },
   "kernels_config": {
    "python": {
     "delete_cmd_postfix": "",
     "delete_cmd_prefix": "del ",
     "library": "var_list.py",
     "varRefreshCmd": "print(var_dic_list())"
    },
    "r": {
     "delete_cmd_postfix": ") ",
     "delete_cmd_prefix": "rm(",
     "library": "var_list.r",
     "varRefreshCmd": "cat(var_dic_list()) "
    }
   },
   "types_to_exclude": [
    "module",
    "function",
    "builtin_function_or_method",
    "instance",
    "_Feature"
   ],
   "window_display": false
  }
 },
 "nbformat": 4,
 "nbformat_minor": 5
}
