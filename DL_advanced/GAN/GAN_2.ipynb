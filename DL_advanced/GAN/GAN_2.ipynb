{
 "cells": [
  {
   "cell_type": "markdown",
   "id": "ee1a2503",
   "metadata": {},
   "source": [
    "# GAN\n",
    "\n",
    "## GAN在优化什么     \n",
    "\n",
    "`GAN`输入一个正态分布，训练一个生成器$G$，生成器产生出一个分布$P_G$，`GAN`的目的是使生成出的分布$P_G$尽可能接近实际的数据分布$P_{data}$\n",
    "\n",
    "<img style=\"float: center;\" src=\"pics/GAN_2_1.PNG\" width=600 height=600>\n",
    "\n",
    "`GAN`的过程表现为下式:\n",
    "\n",
    "$$G^*=argmin_{G}\\ Div(P_G,P_{data})$$\n",
    "\n",
    "$Div(P_G,P_{data})$代表两个分布之间的散度`(Divergence)`\n",
    "\n",
    "问题在于，在训练生成器时的`Loss`是可以计算的，但是**散度如何计算？**"
   ]
  },
  {
   "cell_type": "markdown",
   "id": "d946f4c3",
   "metadata": {},
   "source": [
    "## GAN的解决方法\n",
    "\n",
    "只需要从$P_G$和$P_{data}$中做sampling足够满足,假设$Y$是从$P_G与P_{data}$中sample出来的\n",
    "\n",
    "<img style=\"float: center;\" src=\"pics/GAN_2_2.PNG\" width=600 height=600>\n",
    "\n",
    "### 对于Discriminator\n",
    "\n",
    "目标是分辨出真实数据与生成数据\n",
    "    \n",
    "- **GAN的Objective Function**\n",
    "    根据`GAN`的目标，可以写出网络的优化目标(最大化-目标函数/最小化-损失函数)\n",
    "    \n",
    "    $$D^*=arg\\ \\underset {D}{max} V(D,G)$$\n",
    "\n",
    "其中损失函数：\n",
    "\n",
    "$$V(D,G)=E_{y\\sim P_{data}}\\ (logD(y))+E_{y\\sim P_G}\\ (1- logD(y))$$\n",
    "\n",
    "相当于一个**二分类器**，实际上$V(D,G)$的值和**JS散度**有关\n",
    "\n",
    "### 对于Generator \n",
    "\n",
    "目标是在给定判别器的情况下让`Objective function`尽可能大：\n",
    "\n",
    "$$G^*=arg\\ \\underset{G}{min}\\ \\underset{D}{max} V(D,G)$$\n",
    "\n",
    "### 不同的散度\n",
    "\n",
    "原始`GAN`中的目标函数的最大值接近`JS散度`，如果需要使用其他散度进行衡量，目标函数设计参考:\n",
    "\n",
    "`F-GAN:https://arxiv.org/abs/1606.00709`\n"
   ]
  },
  {
   "attachments": {},
   "cell_type": "markdown",
   "id": "f93f9a65",
   "metadata": {},
   "source": [
    "# Tips for GAN\n",
    "\n",
    "## JS-divergence 的问题\n",
    "\n",
    "### 数据的问题\n",
    "\n",
    "\n",
    "- $P_G$和$P_{data}$重叠部分很少\n",
    "\n",
    "    1. 图片的自然特性       \n",
    "    \n",
    "    图片是高维空间里一个低维的流形(manifold)，即在高维空间中sample一个点，大概率不会是图片，图片在高维空间中只是狭窄的一小部分。\n",
    "    \n",
    "    例如在一个二维空间里，$P_G$和$P_{data}$是两条线，那么相交部分几乎可以忽略\n",
    "    \n",
    "    <img style=\"float: center;\" src=\"pics/GAN_2_3.PNG\" width=300 height=300>\n",
    "    \n",
    "    2. 采样导致的问题\n",
    "    \n",
    "    即使$P_G$和$P_{data}$存在非常大的重叠，但如果由于采样的点数量不够多且切不够密集，判别器可以轻松生成一条判别边界区分两个分布。\n",
    "    \n",
    "    <img style=\"float: center;\" src=\"pics/GAN_2_4.PNG\" width=300 height=300>\n",
    "    \n",
    "### JS-Divergence的衡量\n",
    "\n",
    "对于没有重叠的两个分布而言，无论两个分布差距多大，`JS散度`都是`log2`。那么意味着，`JS散度`无法对生成器参数进行很好的优化。\n",
    "\n",
    "<img style=\"float: center;\" src=\"pics/GAN_2_5.PNG\" width=500 height=500>\n",
    "\n",
    "上图第一个和第二个分布之间的`JS散度`都是`log2`，也就意味着`GAN`没有办法将$P_G$从第一个优化成第二个，二分类器作为判别器而言，Loss很难下降。"
   ]
  },
  {
   "cell_type": "markdown",
   "id": "1e5fd44a",
   "metadata": {},
   "source": [
    "## Wasserstein Distance\n",
    "\n",
    "### Wasserstein距离思想\n",
    "\n",
    "**Wasserstein距离**的起源是`optimal transport problem`，把概率分布想象成一堆石子，如何移动一堆石子，通过**最小的累积移动距离**把它堆成另外一个**目标分布**，这就是`optimal transport`所关心的问题。\n",
    "\n",
    "<img style=\"float: center;\" src=\"pics/GAN_2_6.PNG\" width=500 height=500>\n",
    "\n",
    "但是移动的方法有非常多，因此变为一个优化问题\n",
    "\n",
    "- **Wasserstein距离**的优点\n",
    "\n",
    "1. 能够很自然地度量离散分布和连续分布之间的距离；\n",
    "2. 不仅给出了距离的度量，而且给出如何把一个分布变换为另一分布的方案；\n",
    "3. 能够连续地把一个分布变换为另一个分布，在此同时，能够保持分布自身的几何形态特征；\n",
    "\n",
    "如下图，**Wassersteinjuli**相对于**JS距离**而言，第一个分布间的距离比第二个远，那么参数存在优化的可能。\n",
    "\n",
    "<img style=\"float: center;\" src=\"pics/GAN_2_7.PNG\" width=500 height=500>\n",
    "\n",
    "### Wasserstein距离公式    \n",
    "\n",
    "$$V(D,G)=E_{y\\sim P_{data}}\\ (logD(y))+E_{y\\sim P_G}\\ (1- logD(y))$$\n",
    "\n",
    "$$D^*=arg\\ \\underset {D \\in 1-Lipschitz}{max} \\ \\{E_{y\\sim P_{data}}\\ (logD(y))-E_{y\\sim P_G}\\ (logD(y))\\}$$\n",
    "\n",
    "$D \\in 1-Lipschitz$可以理解为令判别器函数足够`smooth`"
   ]
  }
 ],
 "metadata": {
  "kernelspec": {
   "display_name": "Python 3 (ipykernel)",
   "language": "python",
   "name": "python3"
  },
  "language_info": {
   "codemirror_mode": {
    "name": "ipython",
    "version": 3
   },
   "file_extension": ".py",
   "mimetype": "text/x-python",
   "name": "python",
   "nbconvert_exporter": "python",
   "pygments_lexer": "ipython3",
   "version": "3.8.8"
  },
  "toc": {
   "base_numbering": 1,
   "nav_menu": {},
   "number_sections": true,
   "sideBar": true,
   "skip_h1_title": false,
   "title_cell": "Table of Contents",
   "title_sidebar": "Contents",
   "toc_cell": false,
   "toc_position": {},
   "toc_section_display": true,
   "toc_window_display": true
  },
  "varInspector": {
   "cols": {
    "lenName": 16,
    "lenType": 16,
    "lenVar": 40
   },
   "kernels_config": {
    "python": {
     "delete_cmd_postfix": "",
     "delete_cmd_prefix": "del ",
     "library": "var_list.py",
     "varRefreshCmd": "print(var_dic_list())"
    },
    "r": {
     "delete_cmd_postfix": ") ",
     "delete_cmd_prefix": "rm(",
     "library": "var_list.r",
     "varRefreshCmd": "cat(var_dic_list()) "
    }
   },
   "types_to_exclude": [
    "module",
    "function",
    "builtin_function_or_method",
    "instance",
    "_Feature"
   ],
   "window_display": false
  }
 },
 "nbformat": 4,
 "nbformat_minor": 5
}
