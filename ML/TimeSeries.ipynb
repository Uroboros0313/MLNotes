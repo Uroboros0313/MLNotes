{
 "cells": [
  {
   "cell_type": "markdown",
   "id": "306d250f",
   "metadata": {},
   "source": [
    "# Prophet\n",
    "## Prophet 适用场景\n",
    "\n",
    "Prophet适用于具有明显的内在规律的商业行为数据,例如：有如下特征的业务问题：\n",
    "\n",
    "1. 有至少几个月（最好是一年）的每小时、每天或每周观察的历史数据；\n",
    "\n",
    "2. 有多种人类规模级别的较强的季节性趋势：每周的一些天和每年的一些时间；\n",
    "\n",
    "3. 有事先知道的以不定期的间隔发生的重要节假日（比如国庆节）；\n",
    "\n",
    "4. 缺失的历史数据或较大的异常数据的数量在合理范围内；\n",
    "\n",
    "5. 有历史趋势的变化（比如因为产品发布）；\n",
    "\n",
    "6. 对于数据中蕴含的非线性增长的趋势都有一个自然极限或饱和状态。\n",
    "\n",
    "reference: \n",
    "\n",
    "[1] https://www.jianshu.com/p/218757bee516"
   ]
  },
  {
   "cell_type": "markdown",
   "id": "63a65a1a",
   "metadata": {},
   "source": [
    "# NBEATS类\n",
    "\n",
    "基于全连接神经网络的时序预测模型\n",
    "\n",
    "reference: \n",
    "\n",
    "[1] https://zhuanlan.zhihu.com/p/524324895"
   ]
  },
  {
   "cell_type": "markdown",
   "id": "5df92e1e",
   "metadata": {},
   "source": [
    "# GPVAR类\n",
    "\n",
    "高斯过程和神经网络的结合\n",
    "\n",
    "继承DeepAR\n",
    "\n",
    "ref:\n",
    "\n",
    "[1] https://zhuanlan.zhihu.com/p/372736114"
   ]
  },
  {
   "cell_type": "code",
   "execution_count": null,
   "id": "6d164895",
   "metadata": {},
   "outputs": [],
   "source": []
  }
 ],
 "metadata": {
  "kernelspec": {
   "display_name": "gluon",
   "language": "python",
   "name": "gluon"
  },
  "language_info": {
   "codemirror_mode": {
    "name": "ipython",
    "version": 3
   },
   "file_extension": ".py",
   "mimetype": "text/x-python",
   "name": "python",
   "nbconvert_exporter": "python",
   "pygments_lexer": "ipython3",
   "version": "3.7.0"
  },
  "toc": {
   "base_numbering": 1,
   "nav_menu": {},
   "number_sections": true,
   "sideBar": true,
   "skip_h1_title": false,
   "title_cell": "Table of Contents",
   "title_sidebar": "Contents",
   "toc_cell": false,
   "toc_position": {},
   "toc_section_display": true,
   "toc_window_display": false
  },
  "varInspector": {
   "cols": {
    "lenName": 16,
    "lenType": 16,
    "lenVar": 40
   },
   "kernels_config": {
    "python": {
     "delete_cmd_postfix": "",
     "delete_cmd_prefix": "del ",
     "library": "var_list.py",
     "varRefreshCmd": "print(var_dic_list())"
    },
    "r": {
     "delete_cmd_postfix": ") ",
     "delete_cmd_prefix": "rm(",
     "library": "var_list.r",
     "varRefreshCmd": "cat(var_dic_list()) "
    }
   },
   "types_to_exclude": [
    "module",
    "function",
    "builtin_function_or_method",
    "instance",
    "_Feature"
   ],
   "window_display": false
  }
 },
 "nbformat": 4,
 "nbformat_minor": 5
}
