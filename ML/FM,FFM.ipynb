{
 "cells": [
  {
   "cell_type": "markdown",
   "id": "1f8c1c1c",
   "metadata": {},
   "source": [
    "# FM算法\n",
    "\n",
    "**FM（Factorization Machine，因子分解机）** 算法是一种基于矩阵分解的机器学习算法，是为了解决大规模稀疏矩阵中特征组合问题。\n",
    "\n",
    "特征中的前四列表示:\n",
    "\n",
    "1. 用户$u$($one-hot$编码，稀疏)                      \n",
    "\n",
    "\n",
    "2. 五列表示电影$i$($ont-hot$编码，稀疏）                  \n",
    "\n",
    "\n",
    "3. 五列表示用户u对电影i的打分（归一化特征）               \n",
    "\n",
    "\n",
    "4. 紧接着一列表示时间（连续特征）                 \n",
    "\n",
    " \n",
    "5. 最后五列表示用户$u$对电影$i$打分前评价过的最近一部电影($one-hot$编码，稀疏)                  \n",
    "\n",
    "\n",
    "<img style=\"float: center;\" src=\"FM,FFM_pics/FM_1.png\" width=600 height=600>"
   ]
  },
  {
   "cell_type": "markdown",
   "id": "485cc854",
   "metadata": {},
   "source": [
    "## FM算法模型\n",
    "    \n",
    "二元交叉的FM——(2-way FM)目标函数如下：\n",
    "\n",
    "其中，$x_i$是样本第$i$个特征, $w$是输入特征的参数，$<vi,vj>$是输入特征$i,j$间的交叉参数，$v$是$k$维向量。\n",
    "\n",
    "前面两个就是线性模型，后面一个就是需要学习的**交叉组合特征**，正是$FM$区别与线性模型的地方。\n",
    "\n",
    "$$\\hat y(x) := w_0 + \\sum^n_{i=1}w_ix_i + \\sum^n_{i=1}\\sum^n_{j=i + 1}<v_i, v_j>x_ix_j$$\n",
    "\n",
    "$$V \\in R ^ {n \\times k}$$\n",
    "\n",
    "$$<v_i,v_j>:= \\sum^k_{f=1}v_{i,f} \\cdot v_{j,f}$$\n",
    "\n",
    "组合部分假如使用单一参数$\\omega_{i,j}$，那么特征相关参数共有$\\frac{n(n-1)}{2}$个。但是如第二部分所分析，在数据很稀疏的情况下，**满足$x_i,x_j$都不为$0$的情况非常少，这样将导致$\\omega_{i,j}$无法通过训练得出**。\n",
    "\n",
    "为了求出$\\omega_{i,j}$，对每一个特征分量$x_i$引入辅助向量$V_i=(v_{i,1},\\ v_{i,2}\\ ,\\cdots,v_{i,k})$(相当于每个特征类别的一个embedding)。然后，利用$v_i\\cdot v_j^T$对$\\omega_{i,j}$进行求解。\n",
    "\n",
    "\n",
    "<img style=\"float: center;\" src=\"FM,FFM_pics/FM_2.png\" width=500 height=500>"
   ]
  },
  {
   "cell_type": "markdown",
   "id": "17a3fad0",
   "metadata": {},
   "source": [
    "## 模型简化\n",
    "\n",
    "$$\\begin{aligned}\n",
    "\\sum_{i=1}^{n-1}\\sum_{j = i+1}^n<v_i,v_j>x_ix_j &= \\frac{1}{2}\\sum_{i=1}^{n}\\sum_{j = 1}^n<v_i,v_j>x_ix_j - \\frac{1}{2}\\sum_{i=1}^n<v_i,v_j>x_ix_j\\\\\n",
    "&=\\frac{1}{2}(\\sum_{i=1}^{n}\\sum_{j = 1}^n\\sum_{f=1}^k v_{i,f}\\ v_{j,f}\\ x_ix_j - \\sum_{i=1}^n\\sum_{f=1}^k v_{i,f}^2\\ x_i^2)\\\\\n",
    "&=\\frac{1}{2}\\sum_{f=1}^k\\Bigg[(\\sum_{i=1}^nv_{i,f}\\ x_i)\\cdot(\\sum_{j=1}^nv_{j,f}\\ x_j) - \\sum_{i=1}^nv_{i,f}^2\\ x_i^2\\Bigg]\\\\\n",
    "&=\\frac{1}{2}\\sum_{f=1}^k\\Bigg[(\\sum_{i=1}^nv_{i,f}\\ x_i)^2 - \\sum_{i=1}^nv_{i,f}^2\\ x_i^2\\Bigg]\n",
    "\\end{aligned}$$\n",
    "\n",
    "第二个等号到第三个等号的理解见以下代码:\n",
    "\n",
    "`(a + b + c) ** 2 = a**2 + b**2 + c**2 + ab + ac +bc `\n",
    "```python\n",
    "import numpy as np\n",
    "\n",
    "a = [1,2,3]\n",
    "b = [1,2,3]\n",
    "\n",
    "np.sum(a) * np.sum(b) == (np.array(a).reshape(-1,1) * np.array(b).reshape(1,-1)).sum()\n",
    "\n",
    "# True\n",
    "```"
   ]
  },
  {
   "cell_type": "markdown",
   "id": "d349e6be",
   "metadata": {},
   "source": [
    "## 优化方法     \n",
    "\n",
    "对权重求导得到如下结果:\n",
    "\n",
    "$$\\cfrac{\\partial y}{\\partial \\theta} = \\begin{cases}\n",
    "1,&if\\ \\theta \\ is \\ \\omega_0\\\\\n",
    "x_i, & if\\ \\theta \\ is \\omega_i\\\\\n",
    "x_i\\sum_{j=1}^nv_{j,f}\\ x_j - v_{i,f} \\ x_i^2 , & if \\ \\theta \\ is \\ v_{i,f}\n",
    "\\end{cases}$$"
   ]
  },
  {
   "cell_type": "markdown",
   "id": "c0fb51d3",
   "metadata": {},
   "source": [
    "由上式可知，$v_{i,f}$的训练只需要样本的 $x_i$ 特征非0即可，适合于稀疏数据\n",
    "\n",
    "\n",
    "在使用`SGD`训练模型时，在每次迭代中，只需计算一次所有$f$ 的$\\sum_{j=1}^nv_{j,f}\\ x_j$\n",
    "\n",
    "实际上从辅助向量的梯度中看到，对于$v_{i,j}$的梯度中求和的部分与$i$无关，对所有特征维度只需要计算一次求和"
   ]
  },
  {
   "cell_type": "markdown",
   "id": "facfeb13",
   "metadata": {},
   "source": [
    "# FFM\n",
    "\n",
    "FFM(Field-aware Factorization Machine),引入field的概念，FFM把相同性质的特征归于同一个field。\n",
    "\n",
    "一个category特征就是一个field——日期列、品牌列等等。\n",
    "\n",
    "简单来说，同一个categorical特征经过One-Hot编码生成的数值特征都可以放到同一个field，包括用户性别、职业、品类偏好等。\n",
    "\n",
    "在FFM中，每一维特征$x_i$，针对其它特征的每一种field$f_j$，都会学习一个隐向量$v_{i,f_j}$"
   ]
  },
  {
   "cell_type": "markdown",
   "id": "94239b23",
   "metadata": {},
   "source": [
    "## FFM算法模型"
   ]
  },
  {
   "cell_type": "markdown",
   "id": "69dfcc5a",
   "metadata": {},
   "source": [
    "reference: \n",
    "\n",
    "[1] https://tech.meituan.com/2016/03/03/deep-understanding-of-ffm-principles-and-practices.html                \n",
    "[2] https://zhuanlan.zhihu.com/p/50692817\n",
    "\n",
    "$$y(x) = w_0 + \\sum^n_{i=1}w_ix_i+\\sum^n_{i=1}\\sum^n_{j=i+1}<v_{i,f_j}\\ ,v_{j,f_i}>x_ix_j$$\n",
    "\n",
    "隐向量的长度为$k$,那么FFM的二次参数有$nfk$，远多于FM的$nk$个。FFM不能化简(由于与field相关),复杂度是$O(kn^2)$"
   ]
  },
  {
   "cell_type": "markdown",
   "id": "7725e65c",
   "metadata": {},
   "source": [
    "# 改进方法\n",
    "## FFN\n",
    "<img style=\"float: center;\" src=\"FM,FFM_pics/FNN.png\" width=500 height=500>\n",
    "\n",
    "## Bi-FFM\n",
    "\n",
    "reference:              \n",
    "\n",
    "[1] https://zhuanlan.zhihu.com/p/145928996\n",
    "\n",
    "- 双线性FFM算法(微博团队开发)\n",
    "\n",
    "$$\\hat y(x) := w_0 + \\sum^n_{i=1}w_ix_i + \\sum^n_{i=1}\\sum^n_{j=i + 1}(v_iWv_j)x_ix_j$$"
   ]
  }
 ],
 "metadata": {
  "kernelspec": {
   "display_name": "Python 3.7.3 ('torch')",
   "language": "python",
   "name": "python3"
  },
  "language_info": {
   "codemirror_mode": {
    "name": "ipython",
    "version": 3
   },
   "file_extension": ".py",
   "mimetype": "text/x-python",
   "name": "python",
   "nbconvert_exporter": "python",
   "pygments_lexer": "ipython3",
   "version": "3.7.3"
  },
  "toc": {
   "base_numbering": 1,
   "nav_menu": {},
   "number_sections": true,
   "sideBar": true,
   "skip_h1_title": false,
   "title_cell": "Table of Contents",
   "title_sidebar": "Contents",
   "toc_cell": false,
   "toc_position": {},
   "toc_section_display": true,
   "toc_window_display": false
  },
  "varInspector": {
   "cols": {
    "lenName": 16,
    "lenType": 16,
    "lenVar": 40
   },
   "kernels_config": {
    "python": {
     "delete_cmd_postfix": "",
     "delete_cmd_prefix": "del ",
     "library": "var_list.py",
     "varRefreshCmd": "print(var_dic_list())"
    },
    "r": {
     "delete_cmd_postfix": ") ",
     "delete_cmd_prefix": "rm(",
     "library": "var_list.r",
     "varRefreshCmd": "cat(var_dic_list()) "
    }
   },
   "types_to_exclude": [
    "module",
    "function",
    "builtin_function_or_method",
    "instance",
    "_Feature"
   ],
   "window_display": false
  },
  "vscode": {
   "interpreter": {
    "hash": "f31b5846fe4d0e510ff280a80fa1fd1567c5c662c3b99a86eb737e0309da4a2e"
   }
  }
 },
 "nbformat": 4,
 "nbformat_minor": 5
}
