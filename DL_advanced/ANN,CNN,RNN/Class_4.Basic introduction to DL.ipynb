{
 "cells": [
  {
   "cell_type": "markdown",
   "id": "twelve-today",
   "metadata": {},
   "source": [
    "# Basic introduction to DL"
   ]
  },
  {
   "cell_type": "markdown",
   "id": "inclusive-express",
   "metadata": {},
   "source": [
    "单层全连接神经网络理论上可以拟合任何连续函数    \n",
    "2006年：RBM（受限玻尔兹曼机） initialization       \n",
    "2009年：突破——GPU计算    \n",
    "结构：输入层、隐藏层、输出层"
   ]
  },
  {
   "cell_type": "markdown",
   "id": "fourth-escape",
   "metadata": {},
   "source": [
    "前向传递过程：矩阵乘法    \n",
    "输出层到输入层之间的部分看作Feature extractor特征提取器(replacing feature engineering替代特征工程)      \n",
    "最后一个隐藏层的$X=（x_1,x_2,x_3 \\cdots,x_N）$当作Feature，即通过复杂的特征提取得到一组好的Feature，最后一层作为softmax的Multi-class Classifier"
   ]
  },
  {
   "cell_type": "markdown",
   "id": "copyrighted-smile",
   "metadata": {},
   "source": [
    "DL带来的问题:**如何设计网络结构**"
   ]
  },
  {
   "cell_type": "markdown",
   "id": "noticed-edinburgh",
   "metadata": {},
   "source": [
    "- **扁平神经网络加深度神经网络的对比**      \n",
    "参数相同的的神经网络在深度的表现比扁平的好\n",
    "\n",
    "\n",
    "- **原因**：     \n",
    "神经网络实际上是一个模组化（结构化）   \n",
    "在data每个类别的size不均衡时，越深的神经网络在每层使用的分类器越少，获得的数据量越多，高层的分类器需要的数据量越少，因此性能越好   \n",
    "假设一个神经网络用来分类长发男/女与短发男/女，由于单层的神经网络中每个分类器对应一个类别，而长发男生的数据量较少，那么长发男的分类器较弱，如果加一层分类器分别分类男/女，长发/短发，那么特征提取时分类能力会更强，输入到高层的分类器时表现会更好"
   ]
  }
 ],
 "metadata": {
  "kernelspec": {
   "display_name": "tensorflow",
   "language": "python",
   "name": "tensorflow"
  },
  "language_info": {
   "codemirror_mode": {
    "name": "ipython",
    "version": 3
   },
   "file_extension": ".py",
   "mimetype": "text/x-python",
   "name": "python",
   "nbconvert_exporter": "python",
   "pygments_lexer": "ipython3",
   "version": "3.7.9"
  }
 },
 "nbformat": 4,
 "nbformat_minor": 5
}
