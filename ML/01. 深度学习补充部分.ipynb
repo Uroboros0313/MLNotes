{
 "cells": [
  {
   "cell_type": "markdown",
   "metadata": {},
   "source": [
    "# 1.机器学习基础概念"
   ]
  },
  {
   "cell_type": "markdown",
   "metadata": {},
   "source": [
    "## 监督学习      \n",
    "利用一组已知类别的样本调整分类器的参数，使其达到所要求性能的过程   \n",
    "\n",
    "### 回归问题\n",
    "\n",
    "房价预测问题——给定一组房价特征，根据一次函数或二次函数预测房价(连续值)\n",
    "<img style=\"float: center;\" src=\"P1_pics/p1_1.png\" width=300 height=300> \n",
    "### 分类问题     \n",
    "\n",
    "肿瘤预测问题——给定一组肿瘤特征，预测一组离散值特征    \n",
    "<img style=\"float: center;\" src=\"P1_pics/p1_2.png\" width=200 height=200>"
   ]
  },
  {
   "cell_type": "markdown",
   "metadata": {},
   "source": [
    "## 无监督学习         \n",
    "\n",
    "给定一组无标记的数据，无监督学习算法从中学习到数据的结构    \n",
    "\n",
    "- 聚类算法的应用举例——谷歌新闻专题聚类、DNA序列表达程度图分类、市场细分、社交网络分区等等"
   ]
  },
  {
   "cell_type": "markdown",
   "metadata": {},
   "source": [
    "# 2.深度学习基础补充部分         \n",
    "$m = 训练样本数量$  \n",
    "$x's = 输入变量/特征$    \n",
    "$y's = 输出变量/目标变量$\n",
    "$(x,y)=一个训练样本$   \n",
    "$(x^{(i)},y^{(i)})=第i个训练样本$       \n",
    "\n",
    "- **对于函数**\n",
    "$$h(x) = \\theta_0+\\theta_1 x$$\n",
    "\n",
    "<img style=\"float: center;\" src=\"P1_pics/p2_1.png\" width=400 height=400>       \n",
    "\n",
    "## 损失函数与代价函数   \n",
    "\n",
    "- **损失函数**    \n",
    "损失函数是$x$的函数，$\\theta$不变    \n",
    "<img style=\"float: center;\" src=\"P1_pics/p2_2.png\" width=450 height=450>    \n",
    "\n",
    "- **代价函数**     \n",
    "代价函数是 $\\theta$的函数，找到一个$\\theta$使得代价最小      \n",
    "\n",
    "右图中$J$的$\\times$与左图中颜色相同的线对应——$minimize \\ J\\rightarrow 凸函数的极值点$\n",
    "<img style=\"float: center;\" src=\"P1_pics/p2_3.png\" width=450 height=450>      \n",
    "\n",
    "## 梯度下降     \n",
    "\n",
    "`注意`:\n",
    "\n",
    "- 左边正确的梯度下降算法应该是两个参数同时通过梯度更新。    \n",
    "- 右边的错误算法——如果先更新了一个参数，那么对于另一个参数而言，在**求代价函数对这个参数的导数时,使用的参数改变了**，不是原来`坐标点`上的导数，可能导致错误。\n",
    "<img style=\"float: center;\" src=\"P1_pics/p2_4.png\" width=450 height=450>      \n",
    "\n",
    "## 多元线性回归的梯度下降          \n",
    "\n",
    "- **对于函数**\n",
    "$$h(x) = \\theta_0+\\theta_1 x_1+\\theta_2 x_2+\\theta_3 x_3+...\\theta_n x_n$$\n",
    "<img style=\"float: center;\" src=\"P1_pics/p2_5.png\" width=600 height=600>"
   ]
  },
  {
   "cell_type": "markdown",
   "metadata": {},
   "source": [
    "## 特征与多项式回归       \n",
    "\n",
    "1. 构造新特征——例如$x^3$，只需要讲对应的数据列三次方就可以。   \n",
    "2. 特征缩放问题，当构造$x^3$这样类似的幂次方数据时，会导致数据取值范围相差较大，**使用特征缩放加快GD**\n",
    "<img style=\"float: center;\" src=\"P1_pics/p2_6.png\" width=500 height=500>     \n",
    "\n",
    "## 正规方程      \n",
    "\n",
    "**(多元)线性回归**中的参数$\\theta$最优值              \n",
    "\n",
    "$$\\theta^* = (X^TX)^{-1}X^Ty$$\n",
    "\n",
    "$X,y$如图所示构造，每行是一个样本的特征与标签，其中$x_0$是对应于$bias$的虚拟变量，值为常数$1$\n",
    "<img style=\"float: center;\" src=\"P1_pics/p2_7.png\" width=600 height=600>    \n",
    "\n",
    "\n",
    "## 正规方程在矩阵不可逆情况下的解决方法         \n",
    "\n",
    "当$\\theta = (X^TX)^{-1}X^Ty$中的$X$不可逆——<font color = red> 求伪逆矩阵 </font>     \n",
    "\n",
    "- **不可逆的原因**：   \n",
    "\n",
    "假设数据集是$(m\\times n)(样本量\\times 特征数量)$    \n",
    "\n",
    "1. 特征之间线性相关   \n",
    "2. 特征数量太多$(m\\leq n)$"
   ]
  },
  {
   "cell_type": "markdown",
   "metadata": {},
   "source": [
    "## 逻辑回归      \n",
    "\n",
    "逻辑回归实际上是在正例和负例之间画出一个决策边界，可以采用**多项式回归**画出复杂的决策边界。\n",
    "\n",
    "<img style=\"float: center;\" src=\"P1_pics/p2_8.png\" width=500 height=500>    \n",
    "\n",
    "\n",
    "## 逻辑回归代价函数    \n",
    "\n",
    "$J(\\theta)$使用离差平方和的话，代价函数对于$\\theta$而言是个非凸函数(non-convex)"
   ]
  },
  {
   "cell_type": "markdown",
   "metadata": {},
   "source": []
  },
  {
   "cell_type": "markdown",
   "metadata": {},
   "source": [
    "P24 P38 P65 -----》"
   ]
  },
  {
   "cell_type": "markdown",
   "metadata": {},
   "source": []
  },
  {
   "cell_type": "code",
   "execution_count": null,
   "metadata": {},
   "outputs": [],
   "source": []
  },
  {
   "cell_type": "code",
   "execution_count": null,
   "metadata": {},
   "outputs": [],
   "source": []
  },
  {
   "cell_type": "code",
   "execution_count": null,
   "metadata": {},
   "outputs": [],
   "source": []
  }
 ],
 "metadata": {
  "kernelspec": {
   "display_name": "Python 3 (ipykernel)",
   "language": "python",
   "name": "python3"
  },
  "language_info": {
   "codemirror_mode": {
    "name": "ipython",
    "version": 3
   },
   "file_extension": ".py",
   "mimetype": "text/x-python",
   "name": "python",
   "nbconvert_exporter": "python",
   "pygments_lexer": "ipython3",
   "version": "3.8.8"
  },
  "toc": {
   "base_numbering": 1,
   "nav_menu": {},
   "number_sections": true,
   "sideBar": true,
   "skip_h1_title": false,
   "title_cell": "Table of Contents",
   "title_sidebar": "Contents",
   "toc_cell": false,
   "toc_position": {},
   "toc_section_display": true,
   "toc_window_display": false
  },
  "varInspector": {
   "cols": {
    "lenName": 16,
    "lenType": 16,
    "lenVar": 40
   },
   "kernels_config": {
    "python": {
     "delete_cmd_postfix": "",
     "delete_cmd_prefix": "del ",
     "library": "var_list.py",
     "varRefreshCmd": "print(var_dic_list())"
    },
    "r": {
     "delete_cmd_postfix": ") ",
     "delete_cmd_prefix": "rm(",
     "library": "var_list.r",
     "varRefreshCmd": "cat(var_dic_list()) "
    }
   },
   "types_to_exclude": [
    "module",
    "function",
    "builtin_function_or_method",
    "instance",
    "_Feature"
   ],
   "window_display": false
  }
 },
 "nbformat": 4,
 "nbformat_minor": 4
}
