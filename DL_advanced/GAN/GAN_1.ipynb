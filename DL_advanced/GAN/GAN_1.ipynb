{
 "cells": [
  {
   "cell_type": "markdown",
   "id": "196a1e4f",
   "metadata": {},
   "source": [
    "# 生成模型(Generation)"
   ]
  },
  {
   "cell_type": "markdown",
   "id": "4ed47e88",
   "metadata": {},
   "source": [
    "- **基本思想**:将network当作genertor使用     \n",
    "\n",
    "\n",
    "- **如何使用**：网络的输入中加入一个随机变量$z$，从一个随机分布中采样出的\n",
    "\n",
    "该分布必须够简单(即能够sample)——需要知道该分布的公式,比如Gaussion Distribution\n",
    "\n",
    "- **输出**：由于每次输入x时，z不同，因此网络的输出是一个**复杂的分布**"
   ]
  },
  {
   "cell_type": "markdown",
   "id": "da15bda8",
   "metadata": {},
   "source": [
    "- **为什么要输出一个分布**:\n",
    "\n",
    "以视频预测为例——输入前几个时间步的视频帧，输出下一个时刻的视频帧\n",
    "\n",
    "利用普通的Network输出可能会出现一个小精灵在转角分裂成两只，一只向左转，一只向右转的情况\n",
    "\n",
    "这种情况出现的原因是训练资料里同时有向左与向右的标签，因此可能小精灵会同时向左向右\n",
    "\n",
    "<img style=\"float: center;\" src=\"pics/GAN_1_1.PNG\" width=600 height=600> \n",
    "\n",
    "解决这种问题，考虑向网络中输入一个随机变量z，希望网络的输出是一个分布，该分布随着z的变化而变化。\n",
    "\n",
    "比如当z=0时小精灵向左，z=1时小精灵向右"
   ]
  },
  {
   "cell_type": "markdown",
   "id": "243f4023",
   "metadata": {},
   "source": [
    "- **适用情况**：需要输出存在一点创造力时，即一个输出对应多个输出时\n",
    "\n",
    "例子：一个聊天机器人，当输入是\"Spike 是谁\"，那么Spike可以是Cowboy Bebop的Spike，也可以是Spike Lee"
   ]
  },
  {
   "cell_type": "markdown",
   "id": "11c2e302",
   "metadata": {},
   "source": [
    "# GAN(Generative adversarial network)\n",
    "\n",
    "## Unconditional generation\n",
    "\n",
    "### 生成器generator\n",
    "\n",
    "案例：输出动漫头像\n",
    "假设$Z$是一个`normal distribution`，通常是一个低维向量，输入到`generator`后，不同的输入会对应不同的头像(一个高维向量)\n",
    "\n",
    "<img style=\"float: center;\" src=\"pics/GAN_1_2.PNG\" width=600 height=600> \n",
    "\n",
    "### 判别器discriminator\n",
    "\n",
    "拿一张图片作为输入，输出是一个数值，数值越大代表图片越像真实的头像\n",
    "\n",
    "## Basic idea of GAN\n",
    "\n",
    "演化的概念：\n",
    "\n",
    "一代生成器生成的图片几乎是杂讯，输入判别器判断是否是真实图片\n",
    "生成器升级成二代，生成图片清晰了一些，判别器同时升级\n",
    "因此生成器与判别器逐步升级\n",
    "\n",
    "<img style=\"float: center;\" src=\"pics/GAN_1_3.PNG\" width=600 height=600> \n",
    "\n",
    "## 算法流程\n",
    "```\n",
    "[1] 初始化生成器和判别器的参数\n",
    "\n",
    "[2] 在每个训练代里\n",
    "do\n",
    "[2.1] 固定住生成器,利用初始化参数生成一定数量的图片；并获取一定数量的真实图片，训练判别器。\n",
    "[2.2] 固定住判别器,利用生成器生成图片,使判别器的输出接近1\n",
    "\n",
    "```\n",
    "<img style=\"float: center;\" src=\"pics/GAN_1_4.PNG\" width=600 height=600> \n"
   ]
  }
 ],
 "metadata": {
  "kernelspec": {
   "display_name": "Python 3 (ipykernel)",
   "language": "python",
   "name": "python3"
  },
  "language_info": {
   "codemirror_mode": {
    "name": "ipython",
    "version": 3
   },
   "file_extension": ".py",
   "mimetype": "text/x-python",
   "name": "python",
   "nbconvert_exporter": "python",
   "pygments_lexer": "ipython3",
   "version": "3.8.8"
  },
  "toc": {
   "base_numbering": 1,
   "nav_menu": {},
   "number_sections": true,
   "sideBar": true,
   "skip_h1_title": false,
   "title_cell": "Table of Contents",
   "title_sidebar": "Contents",
   "toc_cell": false,
   "toc_position": {},
   "toc_section_display": true,
   "toc_window_display": false
  },
  "varInspector": {
   "cols": {
    "lenName": 16,
    "lenType": 16,
    "lenVar": 40
   },
   "kernels_config": {
    "python": {
     "delete_cmd_postfix": "",
     "delete_cmd_prefix": "del ",
     "library": "var_list.py",
     "varRefreshCmd": "print(var_dic_list())"
    },
    "r": {
     "delete_cmd_postfix": ") ",
     "delete_cmd_prefix": "rm(",
     "library": "var_list.r",
     "varRefreshCmd": "cat(var_dic_list()) "
    }
   },
   "types_to_exclude": [
    "module",
    "function",
    "builtin_function_or_method",
    "instance",
    "_Feature"
   ],
   "window_display": false
  }
 },
 "nbformat": 4,
 "nbformat_minor": 5
}
